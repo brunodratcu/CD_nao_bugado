{
 "cells": [
  {
   "cell_type": "markdown",
   "metadata": {},
   "source": [
    "MiniProjeto 2\n",
    "\n",
    "Bruno Dratcu e Breno Nakad"
   ]
  },
  {
   "cell_type": "code",
   "execution_count": 1,
   "metadata": {
    "collapsed": true
   },
   "outputs": [],
   "source": [
    "%matplotlib inline\n",
    "import pandas as pd\n",
    "import matplotlib.pyplot as plt\n",
    "import numpy as np\n",
    "import os\n",
    "from scipy import stats\n",
    "from scipy.stats import norm, binom"
   ]
  },
  {
   "cell_type": "markdown",
   "metadata": {},
   "source": [
    "Lista das faces de um dado"
   ]
  },
  {
   "cell_type": "code",
   "execution_count": 2,
   "metadata": {
    "collapsed": true
   },
   "outputs": [],
   "source": [
    "dado = [1,2,3,4,5,6]"
   ]
  },
  {
   "cell_type": "markdown",
   "metadata": {},
   "source": [
    "Construção dos valores da população com 6 possibilidades, na qual cada face tem 1/6 de chance de acontecer"
   ]
  },
  {
   "cell_type": "code",
   "execution_count": 3,
   "metadata": {
    "collapsed": true
   },
   "outputs": [],
   "source": [
    "populacao = stats.binom.rvs(n = 6, p = 1/6, size=1000000)"
   ]
  },
  {
   "cell_type": "code",
   "execution_count": 4,
   "metadata": {
    "collapsed": false
   },
   "outputs": [
    {
     "data": {
      "text/plain": [
       "(array([  3.35405000e+05,   0.00000000e+00,   4.01574000e+05,\n",
       "          0.00000000e+00,   2.00822000e+05,   0.00000000e+00,\n",
       "          5.35520000e+04,   0.00000000e+00,   7.99400000e+03,\n",
       "          0.00000000e+00,   6.32000000e+02,   0.00000000e+00,\n",
       "          2.10000000e+01]),\n",
       " array([ 0.        ,  0.46153846,  0.92307692,  1.38461538,  1.84615385,\n",
       "         2.30769231,  2.76923077,  3.23076923,  3.69230769,  4.15384615,\n",
       "         4.61538462,  5.07692308,  5.53846154,  6.        ]),\n",
       " <a list of 13 Patch objects>)"
      ]
     },
     "execution_count": 4,
     "metadata": {},
     "output_type": "execute_result"
    },
    {
     "data": {
      "image/png": "[encoded data removed]",
      "text/plain": [
       "<matplotlib.figure.Figure at 0x1bb784d6fd0>"
      ]
     },
     "metadata": {},
     "output_type": "display_data"
    }
   ],
   "source": [
    "plt.hist(populacao, bins=13)"
   ]
  },
  {
   "cell_type": "code",
   "execution_count": 27,
   "metadata": {
    "collapsed": false
   },
   "outputs": [
    {
     "name": "stdout",
     "output_type": "stream",
     "text": [
      "0.999136\n",
      "0.833017253504\n"
     ]
    }
   ],
   "source": [
    "media = np.mean(populacao)\n",
    "vari = (np.std(populacao)**2)\n",
    "\n",
    "print(media)\n",
    "print(vari)"
   ]
  },
  {
   "cell_type": "code",
   "execution_count": 18,
   "metadata": {
    "collapsed": true
   },
   "outputs": [],
   "source": [
    "n = 2\n",
    "\n",
    "medias = []\n",
    "\n",
    "for i in range(10000):\n",
    "    amostra = np.random.choice(populacao, size=n)\n",
    "    medias.append(np.mean(amostra))"
   ]
  },
  {
   "cell_type": "code",
   "execution_count": 19,
   "metadata": {
    "collapsed": false
   },
   "outputs": [
    {
     "data": {
      "text/plain": [
       "(array([  1.13500000e+03,   0.00000000e+00,   2.76000000e+03,\n",
       "          0.00000000e+00,   2.90000000e+03,   0.00000000e+00,\n",
       "          1.97600000e+03,   0.00000000e+00,   8.90000000e+02,\n",
       "          0.00000000e+00,   0.00000000e+00,   2.72000000e+02,\n",
       "          0.00000000e+00,   6.40000000e+01,   0.00000000e+00,\n",
       "          2.00000000e+00,   0.00000000e+00,   0.00000000e+00,\n",
       "          0.00000000e+00,   1.00000000e+00]),\n",
       " array([ 0.   ,  0.225,  0.45 ,  0.675,  0.9  ,  1.125,  1.35 ,  1.575,\n",
       "         1.8  ,  2.025,  2.25 ,  2.475,  2.7  ,  2.925,  3.15 ,  3.375,\n",
       "         3.6  ,  3.825,  4.05 ,  4.275,  4.5  ]),\n",
       " <a list of 20 Patch objects>)"
      ]
     },
     "execution_count": 19,
     "metadata": {},
     "output_type": "execute_result"
    },
    {
     "data": {
      "image/png": "[encoded data removed]",
      "text/plain": [
       "<matplotlib.figure.Figure at 0x1bb7d67f6a0>"
      ]
     },
     "metadata": {},
     "output_type": "display_data"
    }
   ],
   "source": [
    "plt.hist(medias, bins=20, color=\"gray\")"
   ]
  },
  {
   "cell_type": "code",
   "execution_count": 20,
   "metadata": {
    "collapsed": true
   },
   "outputs": [],
   "source": [
    "n = 4\n",
    "\n",
    "medias = []\n",
    "\n",
    "for i in range(10000):\n",
    "    amostra = np.random.choice(populacao, size=n)\n",
    "    medias.append(np.mean(amostra))"
   ]
  },
  {
   "cell_type": "code",
   "execution_count": 21,
   "metadata": {
    "collapsed": false
   },
   "outputs": [
    {
     "data": {
      "text/plain": [
       "(array([  1.21000000e+02,   5.64000000e+02,   0.00000000e+00,\n",
       "          1.39900000e+03,   2.01200000e+03,   0.00000000e+00,\n",
       "          2.16300000e+03,   1.70200000e+03,   0.00000000e+00,\n",
       "          1.10800000e+03,   5.79000000e+02,   0.00000000e+00,\n",
       "          2.25000000e+02,   9.10000000e+01,   0.00000000e+00,\n",
       "          2.60000000e+01,   5.00000000e+00,   0.00000000e+00,\n",
       "          4.00000000e+00,   1.00000000e+00]),\n",
       " array([ 0.    ,  0.1625,  0.325 ,  0.4875,  0.65  ,  0.8125,  0.975 ,\n",
       "         1.1375,  1.3   ,  1.4625,  1.625 ,  1.7875,  1.95  ,  2.1125,\n",
       "         2.275 ,  2.4375,  2.6   ,  2.7625,  2.925 ,  3.0875,  3.25  ]),\n",
       " <a list of 20 Patch objects>)"
      ]
     },
     "execution_count": 21,
     "metadata": {},
     "output_type": "execute_result"
    },
    {
     "data": {
      "image/png": "[encoded data removed]",
      "text/plain": [
       "<matplotlib.figure.Figure at 0x1bb7d865048>"
      ]
     },
     "metadata": {},
     "output_type": "display_data"
    }
   ],
   "source": [
    "plt.hist(medias, bins=20, color=\"red\")"
   ]
  },
  {
   "cell_type": "code",
   "execution_count": 22,
   "metadata": {
    "collapsed": true
   },
   "outputs": [],
   "source": [
    "n = 20\n",
    "\n",
    "medias = []\n",
    "\n",
    "for i in range(10000):\n",
    "    amostra = np.random.choice(populacao, size=n)\n",
    "    medias.append(np.mean(amostra))"
   ]
  },
  {
   "cell_type": "code",
   "execution_count": 23,
   "metadata": {
    "collapsed": false
   },
   "outputs": [
    {
     "data": {
      "text/plain": [
       "(array([   12.,    49.,    78.,   361.,   354.,  1116.,  1682.,   988.,\n",
       "         1863.,   810.,  1318.,   757.,   227.,   243.,    67.,    56.,\n",
       "           12.,     2.,     2.,     3.]),\n",
       " array([ 0.35,  0.43,  0.51,  0.59,  0.67,  0.75,  0.83,  0.91,  0.99,\n",
       "         1.07,  1.15,  1.23,  1.31,  1.39,  1.47,  1.55,  1.63,  1.71,\n",
       "         1.79,  1.87,  1.95]),\n",
       " <a list of 20 Patch objects>)"
      ]
     },
     "execution_count": 23,
     "metadata": {},
     "output_type": "execute_result"
    },
    {
     "data": {
      "image/png": "[encoded data removed]",
      "text/plain": [
       "<matplotlib.figure.Figure at 0x1bb7d913cf8>"
      ]
     },
     "metadata": {},
     "output_type": "display_data"
    }
   ],
   "source": [
    "plt.hist(medias, bins=20, color=\"pink\")"
   ]
  },
  {
   "cell_type": "code",
   "execution_count": 24,
   "metadata": {
    "collapsed": true
   },
   "outputs": [],
   "source": [
    "n = 50\n",
    "\n",
    "medias = []\n",
    "\n",
    "for i in range(10000):\n",
    "    amostra = np.random.choice(populacao, size=n)\n",
    "    medias.append(np.mean(amostra))"
   ]
  },
  {
   "cell_type": "code",
   "execution_count": 25,
   "metadata": {
    "collapsed": false
   },
   "outputs": [
    {
     "data": {
      "text/plain": [
       "(array([    4.,    25.,    39.,   185.,   248.,   744.,   790.,  1605.,\n",
       "         1200.,  1280.,  1583.,  1154.,   487.,   280.,   233.,    76.,\n",
       "           46.,    12.,     6.,     3.]),\n",
       " array([ 0.54,  0.59,  0.64,  0.69,  0.74,  0.79,  0.84,  0.89,  0.94,\n",
       "         0.99,  1.04,  1.09,  1.14,  1.19,  1.24,  1.29,  1.34,  1.39,\n",
       "         1.44,  1.49,  1.54]),\n",
       " <a list of 20 Patch objects>)"
      ]
     },
     "execution_count": 25,
     "metadata": {},
     "output_type": "execute_result"
    },
    {
     "data": {
      "image/png": "[encoded data removed]",
      "text/plain": [
       "<matplotlib.figure.Figure at 0x1bb7da529e8>"
      ]
     },
     "metadata": {},
     "output_type": "display_data"
    }
   ],
   "source": [
    "plt.hist(medias, bins=20, color=\"green\")"
   ]
  },
  {
   "cell_type": "code",
   "execution_count": null,
   "metadata": {
    "collapsed": true
   },
   "outputs": [],
   "source": []
  }
 ],
 "metadata": {
  "kernelspec": {
   "display_name": "Python 3",
   "language": "python",
   "name": "python3"
  },
  "language_info": {
   "codemirror_mode": {
    "name": "ipython",
    "version": 3
   },
   "file_extension": ".py",
   "mimetype": "text/x-python",
   "name": "python",
   "nbconvert_exporter": "python",
   "pygments_lexer": "ipython3",
   "version": "3.5.2"
  }
 },
 "nbformat": 4,
 "nbformat_minor": 0
}
