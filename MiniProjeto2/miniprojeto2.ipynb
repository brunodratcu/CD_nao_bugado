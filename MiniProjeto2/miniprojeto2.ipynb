{
 "cells": [
  {
   "cell_type": "markdown",
   "metadata": {},
   "source": [
    "MiniProjeto 2\n",
    "\n",
    "Bruno Dratcu e Breno Nakad"
   ]
  },
  {
   "cell_type": "code",
   "execution_count": 1,
   "metadata": {
    "collapsed": true
   },
   "outputs": [],
   "source": [
    "%matplotlib inline\n",
    "import pandas as pd\n",
    "import matplotlib.pyplot as plt\n",
    "import numpy as np\n",
    "import os\n",
    "from scipy import stats\n",
    "from scipy.stats import norm, binom"
   ]
  },
  {
   "cell_type": "markdown",
   "metadata": {},
   "source": [
    "Lista das faces de um dado"
   ]
  },
  {
   "cell_type": "code",
   "execution_count": 2,
   "metadata": {
    "collapsed": true
   },
   "outputs": [],
   "source": [
    "dado = [1,2,3,4,5,6]"
   ]
  },
  {
   "cell_type": "markdown",
   "metadata": {},
   "source": [
    "Construção dos valores da população com 6 possibilidades, na qual cada face tem 1/6 de chance de acontecer"
   ]
  },
  {
   "cell_type": "code",
   "execution_count": 3,
   "metadata": {
    "collapsed": true
   },
   "outputs": [],
   "source": [
    "populacao = stats.binom.rvs(n = 6, p = 1/6, size=1000000)"
   ]
  },
  {
   "cell_type": "code",
   "execution_count": 4,
   "metadata": {
    "collapsed": false
   },
   "outputs": [
    {
     "data": {
      "text/plain": [
       "(array([  3.35405000e+05,   0.00000000e+00,   4.01574000e+05,\n",
       "          0.00000000e+00,   2.00822000e+05,   0.00000000e+00,\n",
       "          5.35520000e+04,   0.00000000e+00,   7.99400000e+03,\n",
       "          0.00000000e+00,   6.32000000e+02,   0.00000000e+00,\n",
       "          2.10000000e+01]),\n",
       " array([ 0.        ,  0.46153846,  0.92307692,  1.38461538,  1.84615385,\n",
       "         2.30769231,  2.76923077,  3.23076923,  3.69230769,  4.15384615,\n",
       "         4.61538462,  5.07692308,  5.53846154,  6.        ]),\n",
       " <a list of 13 Patch objects>)"
      ]
     },
     "execution_count": 4,
     "metadata": {},
     "output_type": "execute_result"
    },
    {
     "data": {
      "image/png": "[encoded data removed]",
      "text/plain": [
       "<matplotlib.figure.Figure at 0x1bb784d6fd0>"
      ]
     },
     "metadata": {},
     "output_type": "display_data"
    }
   ],
   "source": [
    "plt.hist(populacao, bins=13)"
   ]
  },
  {
   "cell_type": "code",
   "execution_count": 27,
   "metadata": {
    "collapsed": false
   },
   "outputs": [
    {
     "name": "stdout",
     "output_type": "stream",
     "text": [
      "0.999136\n",
      "0.833017253504\n"
     ]
    }
   ],
   "source": [
    "media = np.mean(populacao)\n",
    "vari = (np.std(populacao)**2)\n",
    "\n",
    "print(media)\n",
    "print(vari)"
   ]
  },
  {
   "cell_type": "markdown",
   "metadata": {},
   "source": [
    "Distribuição da media amostral com n = 2"
   ]
  },
  {
   "cell_type": "code",
   "execution_count": 32,
   "metadata": {
    "collapsed": false
   },
   "outputs": [
    {
     "name": "stdout",
     "output_type": "stream",
     "text": [
      "0.998300169983\n",
      "0.414705639725\n"
     ]
    },
    {
     "data": {
      "image/png": "[encoded data removed]",
      "text/plain": [
       "<matplotlib.figure.Figure at 0x1bb7db5d9b0>"
      ]
     },
     "metadata": {},
     "output_type": "display_data"
    }
   ],
   "source": [
    "valor_media = []\n",
    "for i in range(0,10001):\n",
    "    random = np.random.choice(populacao,2)\n",
    "    valor_media.append(np.mean(random))\n",
    "    \n",
    "plt.hist(valor_media, color=\"gray\")\n",
    "media1 = np.mean(valor_media)\n",
    "vari1 = (np.std(valor_media)**2)\n",
    "\n",
    "print(media1)\n",
    "print(vari1)"
   ]
  },
  {
   "cell_type": "code",
   "execution_count": 29,
   "metadata": {
    "collapsed": false
   },
   "outputs": [
    {
     "data": {
      "text/plain": [
       "(array([  1.10000000e+03,   0.00000000e+00,   2.63600000e+03,\n",
       "          0.00000000e+00,   2.93800000e+03,   0.00000000e+00,\n",
       "          2.01300000e+03,   0.00000000e+00,   9.45000000e+02,\n",
       "          0.00000000e+00,   0.00000000e+00,   2.91000000e+02,\n",
       "          0.00000000e+00,   6.00000000e+01,   0.00000000e+00,\n",
       "          1.40000000e+01,   0.00000000e+00,   2.00000000e+00,\n",
       "          0.00000000e+00,   1.00000000e+00]),\n",
       " array([ 0.   ,  0.225,  0.45 ,  0.675,  0.9  ,  1.125,  1.35 ,  1.575,\n",
       "         1.8  ,  2.025,  2.25 ,  2.475,  2.7  ,  2.925,  3.15 ,  3.375,\n",
       "         3.6  ,  3.825,  4.05 ,  4.275,  4.5  ]),\n",
       " <a list of 20 Patch objects>)"
      ]
     },
     "execution_count": 29,
     "metadata": {},
     "output_type": "execute_result"
    },
    {
     "data": {
      "image/png": "[encoded data removed]",
      "text/plain": [
       "<matplotlib.figure.Figure at 0x1bb7dbe3eb8>"
      ]
     },
     "metadata": {},
     "output_type": "display_data"
    }
   ],
   "source": [
    "n = 2\n",
    "\n",
    "medias = []\n",
    "\n",
    "for i in range(10000):\n",
    "    amostra = np.random.choice(populacao, size=n)\n",
    "    medias.append(np.mean(amostra))\n",
    "    \n",
    "plt.hist(medias, bins=20, color=\"gray\")"
   ]
  },
  {
   "cell_type": "markdown",
   "metadata": {},
   "source": [
    "Distribuição da media amostral com n = 4"
   ]
  },
  {
   "cell_type": "code",
   "execution_count": 37,
   "metadata": {
    "collapsed": false
   },
   "outputs": [
    {
     "name": "stdout",
     "output_type": "stream",
     "text": [
      "1.00107489251\n",
      "0.207046889802\n"
     ]
    },
    {
     "data": {
      "image/png": "[encoded data removed]",
      "text/plain": [
       "<matplotlib.figure.Figure at 0x1bb7ef7b7f0>"
      ]
     },
     "metadata": {},
     "output_type": "display_data"
    }
   ],
   "source": [
    "valor_media = []\n",
    "for i in range(0,10001):\n",
    "    random = np.random.choice(populacao,4)\n",
    "    valor_media.append(np.mean(random))\n",
    "    \n",
    "plt.hist(valor_media, color=\"red\")\n",
    "media2 = np.mean(valor_media)\n",
    "vari2 = (np.std(valor_media)**2)\n",
    "\n",
    "print(media2)\n",
    "print(vari2)"
   ]
  },
  {
   "cell_type": "code",
   "execution_count": 43,
   "metadata": {
    "collapsed": false
   },
   "outputs": [
    {
     "data": {
      "text/plain": [
       "(array([  131.,   638.,     0.,  1415.,     0.,  1994.,  2176.,     0.,\n",
       "         1649.,     0.,  1086.,   576.,     0.,   214.,     0.,    82.,\n",
       "           27.,     0.,     9.,     3.]),\n",
       " array([ 0.  ,  0.15,  0.3 ,  0.45,  0.6 ,  0.75,  0.9 ,  1.05,  1.2 ,\n",
       "         1.35,  1.5 ,  1.65,  1.8 ,  1.95,  2.1 ,  2.25,  2.4 ,  2.55,\n",
       "         2.7 ,  2.85,  3.  ]),\n",
       " <a list of 20 Patch objects>)"
      ]
     },
     "execution_count": 43,
     "metadata": {},
     "output_type": "execute_result"
    },
    {
     "data": {
      "image/png": "[encoded data removed]",
      "text/plain": [
       "<matplotlib.figure.Figure at 0x1bb7f1d2160>"
      ]
     },
     "metadata": {},
     "output_type": "display_data"
    }
   ],
   "source": [
    "n = 4\n",
    "\n",
    "medias = []\n",
    "\n",
    "for i in range(10000):\n",
    "    amostra = np.random.choice(populacao, size=n)\n",
    "    medias.append(np.mean(amostra))\n",
    "\n",
    "plt.hist(medias, bins=20, color=\"red\")"
   ]
  },
  {
   "cell_type": "markdown",
   "metadata": {},
   "source": [
    "Distribuição da media amostral com n = 20"
   ]
  },
  {
   "cell_type": "code",
   "execution_count": 34,
   "metadata": {
    "collapsed": false
   },
   "outputs": [
    {
     "name": "stdout",
     "output_type": "stream",
     "text": [
      "0.995235476452\n",
      "0.0417118758577\n"
     ]
    },
    {
     "data": {
      "image/png": "[encoded data removed]",
      "text/plain": [
       "<matplotlib.figure.Figure at 0x1bb7dd17e10>"
      ]
     },
     "metadata": {},
     "output_type": "display_data"
    }
   ],
   "source": [
    "valor_media = []\n",
    "for i in range(0,10001):\n",
    "    random = np.random.choice(populacao,20)\n",
    "    valor_media.append(np.mean(random))\n",
    "    \n",
    "plt.hist(valor_media, color=\"pink\")\n",
    "media3 = np.mean(valor_media)\n",
    "vari3 = (np.std(valor_media)**2)\n",
    "\n",
    "print(media3)\n",
    "print(vari3)"
   ]
  },
  {
   "cell_type": "code",
   "execution_count": 44,
   "metadata": {
    "collapsed": false
   },
   "outputs": [
    {
     "data": {
      "text/plain": [
       "(array([  1.10000000e+01,   5.60000000e+01,   7.00000000e+01,\n",
       "          3.59000000e+02,   3.37000000e+02,   1.14200000e+03,\n",
       "          1.68500000e+03,   9.17000000e+02,   1.92800000e+03,\n",
       "          8.94000000e+02,   1.21900000e+03,   8.13000000e+02,\n",
       "          2.15000000e+02,   2.24000000e+02,   5.70000000e+01,\n",
       "          4.90000000e+01,   1.70000000e+01,   5.00000000e+00,\n",
       "          1.00000000e+00,   1.00000000e+00]),\n",
       " array([ 0.35,  0.43,  0.51,  0.59,  0.67,  0.75,  0.83,  0.91,  0.99,\n",
       "         1.07,  1.15,  1.23,  1.31,  1.39,  1.47,  1.55,  1.63,  1.71,\n",
       "         1.79,  1.87,  1.95]),\n",
       " <a list of 20 Patch objects>)"
      ]
     },
     "execution_count": 44,
     "metadata": {},
     "output_type": "execute_result"
    },
    {
     "data": {
      "image/png": "[encoded data removed]",
      "text/plain": [
       "<matplotlib.figure.Figure at 0x1bb7f23bd68>"
      ]
     },
     "metadata": {},
     "output_type": "display_data"
    }
   ],
   "source": [
    "n = 20\n",
    "\n",
    "medias = []\n",
    "\n",
    "for i in range(10000):\n",
    "    amostra = np.random.choice(populacao, size=n)\n",
    "    medias.append(np.mean(amostra))\n",
    "    \n",
    "plt.hist(medias, bins=20, color=\"pink\")"
   ]
  },
  {
   "cell_type": "markdown",
   "metadata": {},
   "source": [
    "Distribuição da media amostral com n = 50"
   ]
  },
  {
   "cell_type": "code",
   "execution_count": 35,
   "metadata": {
    "collapsed": false
   },
   "outputs": [
    {
     "name": "stdout",
     "output_type": "stream",
     "text": [
      "0.999052094791\n",
      "0.0166209592899\n"
     ]
    },
    {
     "data": {
      "image/png": "[encoded data removed]",
      "text/plain": [
       "<matplotlib.figure.Figure at 0x1bb7eeec2e8>"
      ]
     },
     "metadata": {},
     "output_type": "display_data"
    }
   ],
   "source": [
    "valor_media = []\n",
    "for i in range(0,10001):\n",
    "    random = np.random.choice(populacao,50)\n",
    "    valor_media.append(np.mean(random))\n",
    "    \n",
    "plt.hist(valor_media, color=\"green\")\n",
    "media4 = np.mean(valor_media)\n",
    "vari4 = (np.std(valor_media)**2)\n",
    "\n",
    "print(media4)\n",
    "print(vari4)"
   ]
  },
  {
   "cell_type": "code",
   "execution_count": 24,
   "metadata": {
    "collapsed": true
   },
   "outputs": [],
   "source": [
    "n = 50\n",
    "\n",
    "medias = []\n",
    "\n",
    "for i in range(10000):\n",
    "    amostra = np.random.choice(populacao, size=n)\n",
    "    medias.append(np.mean(amostra))"
   ]
  },
  {
   "cell_type": "code",
   "execution_count": 25,
   "metadata": {
    "collapsed": false
   },
   "outputs": [
    {
     "data": {
      "text/plain": [
       "(array([    4.,    25.,    39.,   185.,   248.,   744.,   790.,  1605.,\n",
       "         1200.,  1280.,  1583.,  1154.,   487.,   280.,   233.,    76.,\n",
       "           46.,    12.,     6.,     3.]),\n",
       " array([ 0.54,  0.59,  0.64,  0.69,  0.74,  0.79,  0.84,  0.89,  0.94,\n",
       "         0.99,  1.04,  1.09,  1.14,  1.19,  1.24,  1.29,  1.34,  1.39,\n",
       "         1.44,  1.49,  1.54]),\n",
       " <a list of 20 Patch objects>)"
      ]
     },
     "execution_count": 25,
     "metadata": {},
     "output_type": "execute_result"
    },
    {
     "data": {
      "image/png": "[encoded data removed]",
      "text/plain": [
       "<matplotlib.figure.Figure at 0x1bb7da529e8>"
      ]
     },
     "metadata": {},
     "output_type": "display_data"
    }
   ],
   "source": [
    "plt.hist(medias, bins=20, color=\"green\")"
   ]
  },
  {
   "cell_type": "code",
   "execution_count": 42,
   "metadata": {
    "collapsed": false
   },
   "outputs": [
    {
     "name": "stdout",
     "output_type": "stream",
     "text": [
      "1.00066593341\n",
      "0.0170618902993\n",
      "[[ 1.70746597  0.00682379]\n",
      " [ 0.00682379  1.69222234]]\n"
     ]
    },
    {
     "data": {
      "image/png": "[encoded data removed]",
      "text/plain": [
       "<matplotlib.figure.Figure at 0x1bb7f05d240>"
      ]
     },
     "metadata": {},
     "output_type": "display_data"
    }
   ],
   "source": [
    "# achando por x1 e x9\n",
    "\n",
    "\n",
    "media_valor = []\n",
    "\n",
    "x1 = []\n",
    "x9 = []\n",
    "\n",
    "for i in range (0, 10001):\n",
    "    aleatorio = np.random.choice(populacao, 50)\n",
    "    x1.append(aleatorio[0])\n",
    "    x9.append(aleatorio[9])\n",
    "    media_valor.append(np.mean(aleatorio))\n",
    "    \n",
    "plt.hist(media_valor)\n",
    "media = np.mean(media_valor)\n",
    "vari = np.var(media_valor)\n",
    "print(media)\n",
    "print(vari)\n",
    "\n",
    "plt.hist(x1)\n",
    "plt.hist(x9)\n",
    "\n",
    "des1= (np.var(x1))**2\n",
    "des9=(np.var(x9))**2\n",
    "cov = np.cov(x1,x9)\n",
    "print(cov/(des1*des9))"
   ]
  },
  {
   "cell_type": "markdown",
   "metadata": {},
   "source": [
    "Conclusão: "
   ]
  }
 ],
 "metadata": {
  "kernelspec": {
   "display_name": "Python 3",
   "language": "python",
   "name": "python3"
  },
  "language_info": {
   "codemirror_mode": {
    "name": "ipython",
    "version": 3
   },
   "file_extension": ".py",
   "mimetype": "text/x-python",
   "name": "python",
   "nbconvert_exporter": "python",
   "pygments_lexer": "ipython3",
   "version": "3.5.2"
  }
 },
 "nbformat": 4,
 "nbformat_minor": 0
}
