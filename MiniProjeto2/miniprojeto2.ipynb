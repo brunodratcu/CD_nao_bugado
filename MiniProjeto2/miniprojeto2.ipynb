{
 "cells": [
  {
   "cell_type": "markdown",
   "metadata": {},
   "source": [
    "MiniProjeto 2\n",
    "\n",
    "Bruno Dratcu e Breno Nakad"
   ]
  },
  {
   "cell_type": "code",
   "execution_count": 1,
   "metadata": {
    "collapsed": true
   },
   "outputs": [],
   "source": [
    "%matplotlib inline\n",
    "import pandas as pd\n",
    "import matplotlib.pyplot as plt\n",
    "import numpy as np\n",
    "import os\n",
    "from scipy import stats\n",
    "from scipy.stats import norm, binom"
   ]
  },
  {
   "cell_type": "markdown",
   "metadata": {},
   "source": [
    "Lista das faces de um dado"
   ]
  },
  {
   "cell_type": "code",
   "execution_count": 2,
   "metadata": {
    "collapsed": true
   },
   "outputs": [],
   "source": [
    "dado = [1,2,3,4,5,6]"
   ]
  },
  {
   "cell_type": "markdown",
   "metadata": {},
   "source": [
    "Construção dos valores da população com 6 possibilidades, na qual cada face tem 1/6 de chance de acontecer"
   ]
  },
  {
   "cell_type": "code",
   "execution_count": 3,
   "metadata": {
    "collapsed": true
   },
   "outputs": [],
   "source": [
    "populacao = stats.binom.rvs(n = 6, p = 1/6, size=1000000)"
   ]
  },
  {
   "cell_type": "code",
   "execution_count": 4,
   "metadata": {
    "collapsed": false
   },
   "outputs": [
    {
     "data": {
      "text/plain": [
       "(array([  3.34840000e+05,   0.00000000e+00,   4.01608000e+05,\n",
       "          0.00000000e+00,   2.01489000e+05,   0.00000000e+00,\n",
       "          5.34130000e+04,   0.00000000e+00,   7.94700000e+03,\n",
       "          0.00000000e+00,   6.76000000e+02,   0.00000000e+00,\n",
       "          2.70000000e+01]),\n",
       " array([ 0.        ,  0.46153846,  0.92307692,  1.38461538,  1.84615385,\n",
       "         2.30769231,  2.76923077,  3.23076923,  3.69230769,  4.15384615,\n",
       "         4.61538462,  5.07692308,  5.53846154,  6.        ]),\n",
       " <a list of 13 Patch objects>)"
      ]
     },
     "execution_count": 4,
     "metadata": {},
     "output_type": "execute_result"
    },
    {
     "data": {
      "image/png": "[encoded data removed]",
      "text/plain": [
       "<matplotlib.figure.Figure at 0x1b85c84d048>"
      ]
     },
     "metadata": {},
     "output_type": "display_data"
    }
   ],
   "source": [
    "plt.hist(populacao, bins=13)"
   ]
  },
  {
   "cell_type": "code",
   "execution_count": 5,
   "metadata": {
    "collapsed": false
   },
   "outputs": [
    {
     "name": "stdout",
     "output_type": "stream",
     "text": [
      "1.000155\n",
      "0.832994975975\n"
     ]
    }
   ],
   "source": [
    "media = np.mean(populacao)\n",
    "vari = (np.std(populacao)**2)\n",
    "\n",
    "print(media)\n",
    "print(vari)"
   ]
  },
  {
   "cell_type": "markdown",
   "metadata": {},
   "source": [
    "Distribuição da media amostral com n = 2"
   ]
  },
  {
   "cell_type": "code",
   "execution_count": 6,
   "metadata": {
    "collapsed": false
   },
   "outputs": [
    {
     "name": "stdout",
     "output_type": "stream",
     "text": [
      "1.00249975002\n",
      "0.411602590366\n"
     ]
    },
    {
     "data": {
      "image/png": "[encoded data removed]",
      "text/plain": [
       "<matplotlib.figure.Figure at 0x1b861228978>"
      ]
     },
     "metadata": {},
     "output_type": "display_data"
    }
   ],
   "source": [
    "valor_media = []\n",
    "for i in range(0,10001):\n",
    "    random = np.random.choice(populacao,2)\n",
    "    valor_media.append(np.mean(random))\n",
    "    \n",
    "plt.hist(valor_media, color=\"gray\")\n",
    "media1 = np.mean(valor_media)\n",
    "vari1 = (np.std(valor_media)**2)\n",
    "\n",
    "print(media1)\n",
    "print(vari1)"
   ]
  },
  {
   "cell_type": "code",
   "execution_count": 7,
   "metadata": {
    "collapsed": false
   },
   "outputs": [
    {
     "data": {
      "text/plain": [
       "(array([  1.11500000e+03,   0.00000000e+00,   2.61100000e+03,\n",
       "          0.00000000e+00,   0.00000000e+00,   2.98300000e+03,\n",
       "          0.00000000e+00,   2.01200000e+03,   0.00000000e+00,\n",
       "          0.00000000e+00,   8.90000000e+02,   0.00000000e+00,\n",
       "          3.14000000e+02,   0.00000000e+00,   0.00000000e+00,\n",
       "          5.60000000e+01,   0.00000000e+00,   1.80000000e+01,\n",
       "          0.00000000e+00,   1.00000000e+00]),\n",
       " array([ 0. ,  0.2,  0.4,  0.6,  0.8,  1. ,  1.2,  1.4,  1.6,  1.8,  2. ,\n",
       "         2.2,  2.4,  2.6,  2.8,  3. ,  3.2,  3.4,  3.6,  3.8,  4. ]),\n",
       " <a list of 20 Patch objects>)"
      ]
     },
     "execution_count": 7,
     "metadata": {},
     "output_type": "execute_result"
    },
    {
     "data": {
      "image/png": "[encoded data removed]",
      "text/plain": [
       "<matplotlib.figure.Figure at 0x1b861759320>"
      ]
     },
     "metadata": {},
     "output_type": "display_data"
    }
   ],
   "source": [
    "n = 2\n",
    "\n",
    "medias = []\n",
    "\n",
    "for i in range(10000):\n",
    "    amostra = np.random.choice(populacao, size=n)\n",
    "    medias.append(np.mean(amostra))\n",
    "    \n",
    "plt.hist(medias, bins=20, color=\"gray\")"
   ]
  },
  {
   "cell_type": "markdown",
   "metadata": {},
   "source": [
    "Distribuição da media amostral com n = 4"
   ]
  },
  {
   "cell_type": "code",
   "execution_count": 8,
   "metadata": {
    "collapsed": false
   },
   "outputs": [
    {
     "name": "stdout",
     "output_type": "stream",
     "text": [
      "1.00482451755\n",
      "0.208837087994\n"
     ]
    },
    {
     "data": {
      "image/png": "[encoded data removed]",
      "text/plain": [
       "<matplotlib.figure.Figure at 0x1b86124aba8>"
      ]
     },
     "metadata": {},
     "output_type": "display_data"
    }
   ],
   "source": [
    "valor_media = []\n",
    "for i in range(0,10001):\n",
    "    random = np.random.choice(populacao,4)\n",
    "    valor_media.append(np.mean(random))\n",
    "    \n",
    "plt.hist(valor_media, color=\"red\")\n",
    "media2 = np.mean(valor_media)\n",
    "vari2 = (np.std(valor_media)**2)\n",
    "\n",
    "print(media2)\n",
    "print(vari2)"
   ]
  },
  {
   "cell_type": "code",
   "execution_count": 9,
   "metadata": {
    "collapsed": false
   },
   "outputs": [
    {
     "data": {
      "text/plain": [
       "(array([  125.,   624.,     0.,  1417.,     0.,  1999.,     0.,  2163.,\n",
       "            0.,  1697.,  1059.,     0.,   567.,     0.,   223.,     0.,\n",
       "           78.,     0.,    42.,     6.]),\n",
       " array([ 0.    ,  0.1375,  0.275 ,  0.4125,  0.55  ,  0.6875,  0.825 ,\n",
       "         0.9625,  1.1   ,  1.2375,  1.375 ,  1.5125,  1.65  ,  1.7875,\n",
       "         1.925 ,  2.0625,  2.2   ,  2.3375,  2.475 ,  2.6125,  2.75  ]),\n",
       " <a list of 20 Patch objects>)"
      ]
     },
     "execution_count": 9,
     "metadata": {},
     "output_type": "execute_result"
    },
    {
     "data": {
      "image/png": "[encoded data removed]",
      "text/plain": [
       "<matplotlib.figure.Figure at 0x1b8618d0048>"
      ]
     },
     "metadata": {},
     "output_type": "display_data"
    }
   ],
   "source": [
    "n = 4\n",
    "\n",
    "medias = []\n",
    "\n",
    "for i in range(10000):\n",
    "    amostra = np.random.choice(populacao, size=n)\n",
    "    medias.append(np.mean(amostra))\n",
    "\n",
    "plt.hist(medias, bins=20, color=\"red\")"
   ]
  },
  {
   "cell_type": "markdown",
   "metadata": {},
   "source": [
    "Distribuição da media amostral com n = 20"
   ]
  },
  {
   "cell_type": "code",
   "execution_count": 10,
   "metadata": {
    "collapsed": false
   },
   "outputs": [
    {
     "name": "stdout",
     "output_type": "stream",
     "text": [
      "0.999855014499\n",
      "0.042279501027\n"
     ]
    },
    {
     "data": {
      "image/png": "[encoded data removed]",
      "text/plain": [
       "<matplotlib.figure.Figure at 0x1b8619a2b38>"
      ]
     },
     "metadata": {},
     "output_type": "display_data"
    }
   ],
   "source": [
    "valor_media = []\n",
    "for i in range(0,10001):\n",
    "    random = np.random.choice(populacao,20)\n",
    "    valor_media.append(np.mean(random))\n",
    "    \n",
    "plt.hist(valor_media, color=\"pink\")\n",
    "media3 = np.mean(valor_media)\n",
    "vari3 = (np.std(valor_media)**2)\n",
    "\n",
    "print(media3)\n",
    "print(vari3)"
   ]
  },
  {
   "cell_type": "code",
   "execution_count": 11,
   "metadata": {
    "collapsed": false
   },
   "outputs": [
    {
     "data": {
      "text/plain": [
       "(array([  9.00000000e+00,   1.50000000e+01,   1.18000000e+02,\n",
       "          1.17000000e+02,   6.05000000e+02,   4.64000000e+02,\n",
       "          1.38000000e+03,   9.23000000e+02,   1.98700000e+03,\n",
       "          8.38000000e+02,   1.54200000e+03,   6.13000000e+02,\n",
       "          7.64000000e+02,   4.03000000e+02,   8.90000000e+01,\n",
       "          5.70000000e+01,   5.30000000e+01,   1.40000000e+01,\n",
       "          8.00000000e+00,   1.00000000e+00]),\n",
       " array([ 0.35 ,  0.425,  0.5  ,  0.575,  0.65 ,  0.725,  0.8  ,  0.875,\n",
       "         0.95 ,  1.025,  1.1  ,  1.175,  1.25 ,  1.325,  1.4  ,  1.475,\n",
       "         1.55 ,  1.625,  1.7  ,  1.775,  1.85 ]),\n",
       " <a list of 20 Patch objects>)"
      ]
     },
     "execution_count": 11,
     "metadata": {},
     "output_type": "execute_result"
    },
    {
     "data": {
      "image/png": "[encoded data removed]",
      "text/plain": [
       "<matplotlib.figure.Figure at 0x1b86177bac8>"
      ]
     },
     "metadata": {},
     "output_type": "display_data"
    }
   ],
   "source": [
    "n = 20\n",
    "\n",
    "medias = []\n",
    "\n",
    "for i in range(10000):\n",
    "    amostra = np.random.choice(populacao, size=n)\n",
    "    medias.append(np.mean(amostra))\n",
    "    \n",
    "plt.hist(medias, bins=20, color=\"pink\")"
   ]
  },
  {
   "cell_type": "markdown",
   "metadata": {},
   "source": [
    "Distribuição da media amostral com n = 50"
   ]
  },
  {
   "cell_type": "code",
   "execution_count": 12,
   "metadata": {
    "collapsed": false
   },
   "outputs": [
    {
     "name": "stdout",
     "output_type": "stream",
     "text": [
      "0.998536146385\n",
      "0.0168127356447\n"
     ]
    },
    {
     "data": {
      "image/png": "[encoded data removed]",
      "text/plain": [
       "<matplotlib.figure.Figure at 0x1b8619904e0>"
      ]
     },
     "metadata": {},
     "output_type": "display_data"
    }
   ],
   "source": [
    "valor_media = []\n",
    "for i in range(0,10001):\n",
    "    random = np.random.choice(populacao,50)\n",
    "    valor_media.append(np.mean(random))\n",
    "    \n",
    "plt.hist(valor_media, color=\"green\")\n",
    "media4 = np.mean(valor_media)\n",
    "vari4 = (np.std(valor_media)**2)\n",
    "\n",
    "print(media4)\n",
    "print(vari4)"
   ]
  },
  {
   "cell_type": "code",
   "execution_count": 13,
   "metadata": {
    "collapsed": true
   },
   "outputs": [],
   "source": [
    "n = 50\n",
    "\n",
    "medias = []\n",
    "\n",
    "for i in range(10000):\n",
    "    amostra = np.random.choice(populacao, size=n)\n",
    "    medias.append(np.mean(amostra))"
   ]
  },
  {
   "cell_type": "code",
   "execution_count": 14,
   "metadata": {
    "collapsed": false
   },
   "outputs": [
    {
     "data": {
      "text/plain": [
       "(array([    6.,    14.,    91.,   126.,   448.,   524.,  1220.,  1117.,\n",
       "         1839.,  1205.,  1036.,  1142.,   497.,   461.,   141.,    90.,\n",
       "           25.,    12.,     4.,     2.]),\n",
       " array([ 0.56 ,  0.609,  0.658,  0.707,  0.756,  0.805,  0.854,  0.903,\n",
       "         0.952,  1.001,  1.05 ,  1.099,  1.148,  1.197,  1.246,  1.295,\n",
       "         1.344,  1.393,  1.442,  1.491,  1.54 ]),\n",
       " <a list of 20 Patch objects>)"
      ]
     },
     "execution_count": 14,
     "metadata": {},
     "output_type": "execute_result"
    },
    {
     "data": {
      "image/png": "[encoded data removed]",
      "text/plain": [
       "<matplotlib.figure.Figure at 0x1b861990438>"
      ]
     },
     "metadata": {},
     "output_type": "display_data"
    }
   ],
   "source": [
    "plt.hist(medias, bins=20, color=\"green\")"
   ]
  },
  {
   "cell_type": "code",
   "execution_count": 27,
   "metadata": {
    "collapsed": false
   },
   "outputs": [
    {
     "name": "stdout",
     "output_type": "stream",
     "text": [
      "1.0003939606\n",
      "0.0168232424553\n",
      "[[ 1.21179309  0.00632214]\n",
      " [ 0.00632214  1.22272381]]\n"
     ]
    },
    {
     "data": {
      "image/png": "[encoded data removed]",
      "text/plain": [
       "<matplotlib.figure.Figure at 0x1b861e76860>"
      ]
     },
     "metadata": {},
     "output_type": "display_data"
    }
   ],
   "source": [
    "# achando por x1 e x9\n",
    "\n",
    "\n",
    "media_valor = []\n",
    "\n",
    "x1 = []\n",
    "x9 = []\n",
    "\n",
    "for i in range (0, 10001):\n",
    "    aleatorio = np.random.choice(populacao, 50)\n",
    "    x1.append(aleatorio[0])\n",
    "    x9.append(aleatorio[9])\n",
    "    media_valor.append(np.mean(aleatorio))\n",
    "    \n",
    "plt.hist(media_valor)\n",
    "media = np.mean(media_valor)\n",
    "vari = (np.std(media_valor))**2\n",
    "print(media)\n",
    "print(vari)\n",
    "\n",
    "plt.hist(x1)\n",
    "plt.hist(x9)\n",
    "\n",
    "des1= (np.std(x1))**2\n",
    "des9=(np.std(x9))**2\n",
    "cov = np.cov(x1,x9)\n",
    "print(cov/(des1*des9))"
   ]
  },
  {
   "cell_type": "markdown",
   "metadata": {},
   "source": [
    "Conclusão: "
   ]
  }
 ],
 "metadata": {
  "kernelspec": {
   "display_name": "Python 3",
   "language": "python",
   "name": "python3"
  },
  "language_info": {
   "codemirror_mode": {
    "name": "ipython",
    "version": 3
   },
   "file_extension": ".py",
   "mimetype": "text/x-python",
   "name": "python",
   "nbconvert_exporter": "python",
   "pygments_lexer": "ipython3",
   "version": "3.5.2"
  }
 },
 "nbformat": 4,
 "nbformat_minor": 0
}
