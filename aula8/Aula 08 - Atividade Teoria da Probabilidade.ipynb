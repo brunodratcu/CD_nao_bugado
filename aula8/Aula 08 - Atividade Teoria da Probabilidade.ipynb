{
 "cells": [
  {
   "cell_type": "markdown",
   "metadata": {},
   "source": [
    "___\n",
    "# Atividade: Teoria da Probabilidade\n",
    "___\n",
    "\n",
    "## Aula 08\n",
    "\n",
    "**Referência de Leitura:**\n",
    "1. Magalhães e Lima (7ª. Edição): pág. 49 a 68 - Probabilidades\n",
    "\n",
    "**Hoje:**\n",
    "1. Conceito de Probabilidade\n",
    "4. Probabilidade Condicional\n",
    "3. Independência de eventos\n",
    "5. Teorema de Bayes. Simulação do problema de Monty Hall\n",
    "\n",
    "**Próxima aula:**\n",
    "1. Magalhães e Lima (7ª. Edição): pág. 69 a 104 - Variáveis aleatórias discretas\n",
    "___"
   ]
  },
  {
   "cell_type": "code",
   "execution_count": 1,
   "metadata": {
    "collapsed": true
   },
   "outputs": [],
   "source": [
    "%matplotlib inline\n",
    "import pandas as pd\n",
    "import matplotlib.pyplot as plt\n",
    "\n",
    "#Bibliotecas necessárias\n",
    "from numpy.random import shuffle, randint, choice\n"
   ]
  },
  {
   "cell_type": "markdown",
   "metadata": {},
   "source": [
    "## <font color='blue'>Exercício 1</font>\n",
    "\n",
    "Monte a simulação de 1000 jogadas de um dado idôneo de 6 faces. Faça o histograma (normalizado) da frequência.\n",
    "\n",
    "    a) Olhando o histograma, o que pode se dizer sobre as probabilidade de cada face?\n",
    "    \n",
    "    b) Discorra sobre o porque da probabilidade não ser exatamente igual à teórica."
   ]
  },
  {
   "cell_type": "code",
   "execution_count": 2,
   "metadata": {
    "collapsed": false
   },
   "outputs": [
    {
     "data": {
      "image/png": "[encoded data removed]",
      "text/plain": [
       "<matplotlib.figure.Figure at 0x2205f6d2b00>"
      ]
     },
     "metadata": {},
     "output_type": "display_data"
    }
   ],
   "source": [
    "x = pd.Series(randint(1,7, size=1000))\n",
    "plot = x.plot.hist(bins=6, color=\"green\")"
   ]
  },
  {
   "cell_type": "markdown",
   "metadata": {},
   "source": [
    "Ela não é exatamente igual a teoria porque não depende só do fator matematico, depende tambem do angulo em que o dado foi lançado, a força, a velocidade, o peso da moeda... Ou seja, sempre tem algum fato que pode ter algum erro matematico que não foi considerado, então ele tente a ter o mesmo valor."
   ]
  },
  {
   "cell_type": "markdown",
   "metadata": {},
   "source": [
    "___\n",
    "## <font color='blue'>Exercício 2</font>\n",
    "\n",
    "Ampliando o espaço amostral para as possíveis jogadas de 2 dados, analise as seguintes situações:\n",
    "    \n",
    "    a) Jogando os dois dados ao mesmo tempo. Qual é a probabilidade de obter soma 7?\n",
    "    \n",
    "    b) Jogando um dado e depois o segundo dado. Qual é a probabilidade de obter soma 7 já sabendo o resultado do primeiro? Compare o resultado com item anterior! Por que é igual ou diferente?"
   ]
  },
  {
   "cell_type": "code",
   "execution_count": 3,
   "metadata": {
    "collapsed": false
   },
   "outputs": [
    {
     "name": "stdout",
     "output_type": "stream",
     "text": [
      "166.809\n",
      "833.192\n"
     ]
    }
   ],
   "source": [
    "#Pela definição de proabilidade: P(A,B) = P(A).P(B), portanto\n",
    "#A probabilidade de obter a soma 7 é: (1,6);(2,5);(3,4);(4,3);(5,2);(6,1)\n",
    "\n",
    "acerto = 0\n",
    "erro = 0\n",
    "for i in range(1000001):\n",
    "    dado1 = randint(1,7)\n",
    "    dado2 = randint(1,7)\n",
    "    soma = dado1 + dado2\n",
    "    if soma == 7:\n",
    "        acerto += 1\n",
    "    elif soma != 7:\n",
    "        erro += 1\n",
    "    soma = 0\n",
    "acerto_porcentagem = (acerto/1000)\n",
    "print(acerto_porcentagem)\n",
    "erro_porcentagem = (erro/1000)\n",
    "print(erro_porcentagem)\n"
   ]
  },
  {
   "cell_type": "markdown",
   "metadata": {},
   "source": [
    "Caso o segundo dado fosse jogado depois de saber o resultado do primeiro, irá continuar dando 1/6, pois o resultado de um dado não é depende do outro, então jogando os dois ao mesmo tempo, ou um seguida do outro, a soma ser 7 continuará dando 1/6."
   ]
  },
  {
   "cell_type": "markdown",
   "metadata": {},
   "source": [
    "___\n",
    "## <font color='blue'>Exercício 3</font>\n",
    "\n",
    "Simule 10000 vezes o problema de Monty Hall¹ , usar o seguinte algoritmo:\n",
    "\n",
    "\n",
    "* Repetir 10000 vezes:\n",
    "    * Sorteie um número de porta de 1 a 3 para ser a premiada\n",
    "    * Sorteie um número de porta de 1 a 3 para ser a porta escolhida.\n",
    "    * Sorteie um número de porta para ser a aberta, desde que não seja a premiada e nem a porta escolhida. Assim, se:\n",
    "        * porta premiada é 1 e a escolhida é 1, sorteie entre as portas 2 e 3 para ser aberta\n",
    "        * porta premiada é 1 e a escolhida é 2, com probabilidade 1 deve abrir a porta 3\n",
    "        * porta premiada é 1 e a escolhida é 3, com probabilidade 1 deve abrir a porta 2\n",
    "        * assim para demais casos...\n",
    "    \n",
    "    * Calcule quantas vezes indivíduo ganha ao trocar de porta. Ou seja, se:\n",
    "        * porta premiada é 1, a escolhida é 1 e aberta é 2 (ou 3), indivíduo perde se trocar de porta\n",
    "        * porta premiada é 1, a escolhida é 2 e aberta é 3, indivíduo ganha se trocar de porta\n",
    "        * porta premiada é 1, a escolhida é 3 e aberta é 2, indivíduo ganha se trocar de porta\n",
    "        * assim para demais casos...\n",
    "        \n",
    "    * Exibir quantas vezes em 10000, o indivíduo ganhou ao trocar de porta.\n",
    "\n",
    "Compare o resultado numérico com o resultado analítico obtido via Teorema de Bayes.\n",
    "\n",
    "¹https://en.wikipedia.org/wiki/Monty_Hall_problem e \n",
    "Exercício 1.4.5 de http://www.portalaction.com.br/probabilidades/14-eventos-independentes-e-probabilidade-condicional"
   ]
  },
  {
   "cell_type": "code",
   "execution_count": 23,
   "metadata": {
    "collapsed": false
   },
   "outputs": [
    {
     "name": "stdout",
     "output_type": "stream",
     "text": [
      "Vitorias: 3292.0\n",
      "Derrotas: 6708.0\n",
      "Porcentagem de vitorias (em %): 32.92\n"
     ]
    }
   ],
   "source": [
    "import random\n",
    "interacoes = 10000\n",
    "\n",
    "opcoes = [\"R$10,00\", \"R$10,00\", \"R$1M,00\"]\n",
    "vitorias = 0.0\n",
    "derrotas = 0.0\n",
    "\n",
    "for i in range(interacoes):\n",
    "    n = random.randrange(0,3)\n",
    "\n",
    "    escolhas = opcoes[n]\n",
    "    \n",
    "    if n == 0:\n",
    "        derrotas += 1\n",
    "        \n",
    "    elif n == 1:\n",
    "        derrotas += 1\n",
    "        \n",
    "    elif n == 2:\n",
    "        vitorias += 1\n",
    "        \n",
    "    else:\n",
    "        print(\"Ja era!\")\n",
    "\n",
    "t = (vitorias/interacoes) * 100\n",
    "print(\"Vitorias: \" + str(vitorias))\n",
    "print(\"Derrotas: \" + str(derrotas))\n",
    "print(\"Porcentagem de vitorias (em %): \" + str(t))"
   ]
  },
  {
   "cell_type": "code",
   "execution_count": 5,
   "metadata": {
    "collapsed": false
   },
   "outputs": [
    {
     "name": "stdout",
     "output_type": "stream",
     "text": [
      "1.0\n",
      "\n",
      "0.0\n"
     ]
    }
   ],
   "source": [
    "import numpy.random \n",
    "ganha = 0\n",
    "perde = 0\n",
    "#lista = [\"x\",\"y\",\"z\"]\n",
    "\n",
    "for i in range(100000):\n",
    "    lista = [\"x\",\"y\",\"z\"]\n",
    "\n",
    "    escolha = random.choice(lista)\n",
    "    premiado = random.choice(lista)\n",
    "    temp = list(lista)\n",
    "    abrir = list(temp)\n",
    "    \n",
    "    \n",
    "    if escolha == premiado:\n",
    "        temp.remove(escolha)\n",
    "        aleatorio = random.choice(temp)\n",
    "        temp.remove(aleatorio)\n",
    "        abrir = random.choice(temp)\n",
    "        \n",
    "        if premiado == escolha:\n",
    "            ganha += 1          \n",
    "        \n",
    "        if premiado != escolha:\n",
    "            lista.remove(abrir)\n",
    "            lista.remove(escolha)\n",
    "            nova_opcao = lista[0]\n",
    "    \n",
    "            if nova_opcao == premiado:\n",
    "                ganha += 1\n",
    "            elif nova_opcao != premiado:\n",
    "                perde += 1\n",
    "    \n",
    "    elif escolha != premiado:\n",
    "        temp.remove(escolha)\n",
    "        temp.remove(premiado)\n",
    "        abrir = random.choice(temp)\n",
    "    \n",
    "        if premiado == escolha:\n",
    "            ganha += 1          \n",
    "        \n",
    "        if premiado != escolha:\n",
    "            lista.remove(abrir)\n",
    "            lista.remove(escolha)\n",
    "            nova_opcao = lista[0]\n",
    "    \n",
    "            if nova_opcao == premiado:\n",
    "                ganha += 1\n",
    "            elif nova_opcao != premiado:\n",
    "                perde += 1\n",
    "                \n",
    "#print(\"Voce escolheu: {0}\".format(escolha))\n",
    "#print(\"O premiado era: {0}\".format(premiado))\n",
    "#print(\"A porta aberta tinha: {0}\".format(temp)) \n",
    "#print(\"Sua nova opção foi de: {0}\".format(lista[0]))\n",
    "print(ganha/100000)\n",
    "print()\n",
    "print(perde/100000)"
   ]
  },
  {
   "cell_type": "markdown",
   "metadata": {},
   "source": [
    "Existem 3 opções \"fechadas\" (A,B,C), uma pessoa escolhe uma das opções, digamos a A, a chance de que ela seja a premiada é de 1/3. Como conseqüência, a probabilidade de que o prêmio esteja nas outras duas portas B ou C é de 2/3. Portanto, a chances são: de ter acertado = 1/3, de ter errado = 2/3.\n",
    "\n",
    "Uma outra pessoa, geralmente um apresentador, abrirá uma dessas outras duas portas que contém não contem o premio, por exemplo a B. Dando, então, a informação de: se o prêmio estava nas outras portas que não escolheu (B ou C), agora ele tem certeza de que não esta na B, pensando que o premio só pode estar na porta que você não escolheu e não foi aberta, ou seja, a porta C. \n",
    "\n",
    "Sabendo que a porta aberta (no caso, B) não é a premiada, então as chances da pessoa acertar (1/3), se tornam 2/3, se ele trocar de porta. Resumindo, inicialmente suas chances de ganhar são de 1/3, e ao saber uma das portas, caso ele tenha trocado de porta, suas chances passam a ser 2/3"
   ]
  },
  {
   "cell_type": "code",
   "execution_count": null,
   "metadata": {
    "collapsed": true
   },
   "outputs": [],
   "source": []
  }
 ],
 "metadata": {
  "anaconda-cloud": {},
  "kernelspec": {
   "display_name": "Python 3",
   "language": "python",
   "name": "python3"
  },
  "language_info": {
   "codemirror_mode": {
    "name": "ipython",
    "version": 3
   },
   "file_extension": ".py",
   "mimetype": "text/x-python",
   "name": "python",
   "nbconvert_exporter": "python",
   "pygments_lexer": "ipython3",
   "version": "3.5.2"
  }
 },
 "nbformat": 4,
 "nbformat_minor": 0
}
