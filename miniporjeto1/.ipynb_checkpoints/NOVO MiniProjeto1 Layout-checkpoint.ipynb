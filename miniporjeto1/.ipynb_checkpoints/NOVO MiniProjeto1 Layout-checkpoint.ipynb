{
 "cells": [
  {
   "cell_type": "markdown",
   "metadata": {},
   "source": [
    "___\n",
    "# MINIPROJETO 1"
   ]
  },
  {
   "cell_type": "markdown",
   "metadata": {},
   "source": [
    "## <font color='red'>COLOQUE AQUI SEU NOME</font>\n",
    "___"
   ]
  },
  {
   "cell_type": "markdown",
   "metadata": {},
   "source": [
    "## <font color='blue'>NOME DA VARIÁVEL QUANTITATIVA ESCOLHIDA</font>"
   ]
  },
  {
   "cell_type": "markdown",
   "metadata": {},
   "source": [
    "___\n",
    "### Itens 1 a 3 - Resolução:"
   ]
  },
  {
   "cell_type": "code",
   "execution_count": 2,
   "metadata": {
    "collapsed": false
   },
   "outputs": [
    {
     "name": "stdout",
     "output_type": "stream",
     "text": [
      "Esperamos trabalhar no diretório\n",
      "C:\\Users\\Bruno Dratcu\\Desktop\\2o Semestre\\Ciencia dos Dados\\CD_nao_bugado\\miniporjeto1\n"
     ]
    }
   ],
   "source": [
    "%matplotlib inline\n",
    "import pandas as pd\n",
    "import matplotlib.pyplot as plt\n",
    "import numpy as np\n",
    "import os\n",
    "from scipy import stats\n",
    "\n",
    "print('Esperamos trabalhar no diretório')\n",
    "print(os.getcwd())"
   ]
  },
  {
   "cell_type": "code",
   "execution_count": 22,
   "metadata": {
    "collapsed": false
   },
   "outputs": [],
   "source": [
    "notas = pd.read_table(\"doenca_saneamento.xls\")"
   ]
  },
  {
   "cell_type": "code",
   "execution_count": 23,
   "metadata": {
    "collapsed": false
   },
   "outputs": [
    {
     "data": {
      "text/html": [
       "<div>\n",
       "<table border=\"1\" class=\"dataframe\">\n",
       "  <thead>\n",
       "    <tr style=\"text-align: right;\">\n",
       "      <th></th>\n",
       "      <th>Brasil</th>\n",
       "      <th>OPCAO</th>\n",
       "      <th>1993</th>\n",
       "      <th>1994</th>\n",
       "      <th>1995</th>\n",
       "      <th>1996</th>\n",
       "      <th>1997</th>\n",
       "      <th>1998</th>\n",
       "      <th>1999</th>\n",
       "      <th>2000</th>\n",
       "      <th>2001</th>\n",
       "      <th>2002</th>\n",
       "      <th>2003</th>\n",
       "      <th>2004</th>\n",
       "      <th>2005</th>\n",
       "      <th>2006</th>\n",
       "      <th>2007</th>\n",
       "      <th>2008</th>\n",
       "      <th>2009</th>\n",
       "      <th>2010</th>\n",
       "    </tr>\n",
       "  </thead>\n",
       "  <tbody>\n",
       "    <tr>\n",
       "      <th>0</th>\n",
       "      <td>Brasil</td>\n",
       "      <td>De transmissao feco-oral</td>\n",
       "      <td>681,1</td>\n",
       "      <td>672,4</td>\n",
       "      <td>488,5</td>\n",
       "      <td>423</td>\n",
       "      <td>390,6</td>\n",
       "      <td>325,7</td>\n",
       "      <td>327,4</td>\n",
       "      <td>303,5</td>\n",
       "      <td>315,8</td>\n",
       "      <td>325,9</td>\n",
       "      <td>325,3</td>\n",
       "      <td>290,6</td>\n",
       "      <td>297,2</td>\n",
       "      <td>302,2</td>\n",
       "      <td>249</td>\n",
       "      <td>260,2</td>\n",
       "      <td>247,9</td>\n",
       "      <td>264,3</td>\n",
       "    </tr>\n",
       "    <tr>\n",
       "      <th>1</th>\n",
       "      <td>Brasil</td>\n",
       "      <td>Tansmitidas por inseto vetor</td>\n",
       "      <td>36,4</td>\n",
       "      <td>38,4</td>\n",
       "      <td>30,4</td>\n",
       "      <td>21,6</td>\n",
       "      <td>15,8</td>\n",
       "      <td>17,9</td>\n",
       "      <td>19,3</td>\n",
       "      <td>22,3</td>\n",
       "      <td>25,6</td>\n",
       "      <td>41,3</td>\n",
       "      <td>40,5</td>\n",
       "      <td>21,8</td>\n",
       "      <td>28</td>\n",
       "      <td>25,8</td>\n",
       "      <td>35,1</td>\n",
       "      <td>46,1</td>\n",
       "      <td>33,7</td>\n",
       "      <td>54</td>\n",
       "    </tr>\n",
       "    <tr>\n",
       "      <th>2</th>\n",
       "      <td>Brasil</td>\n",
       "      <td>Transmitidas atraves do contato com a agua</td>\n",
       "      <td>3,7</td>\n",
       "      <td>3,9</td>\n",
       "      <td>3,9</td>\n",
       "      <td>3,3</td>\n",
       "      <td>2,9</td>\n",
       "      <td>2,6</td>\n",
       "      <td>2,5</td>\n",
       "      <td>2,9</td>\n",
       "      <td>2,9</td>\n",
       "      <td>2,4</td>\n",
       "      <td>2,3</td>\n",
       "      <td>2,1</td>\n",
       "      <td>2,2</td>\n",
       "      <td>1,9</td>\n",
       "      <td>2</td>\n",
       "      <td>1,3</td>\n",
       "      <td>1,5</td>\n",
       "      <td>1,5</td>\n",
       "    </tr>\n",
       "    <tr>\n",
       "      <th>3</th>\n",
       "      <td>Brasil</td>\n",
       "      <td>Relacionadas com a higiene</td>\n",
       "      <td>8,4</td>\n",
       "      <td>7,6</td>\n",
       "      <td>6,3</td>\n",
       "      <td>5,8</td>\n",
       "      <td>6,7</td>\n",
       "      <td>0,7</td>\n",
       "      <td>0,6</td>\n",
       "      <td>0,6</td>\n",
       "      <td>0,7</td>\n",
       "      <td>0,9</td>\n",
       "      <td>0,8</td>\n",
       "      <td>0,8</td>\n",
       "      <td>0,7</td>\n",
       "      <td>0,6</td>\n",
       "      <td>0,6</td>\n",
       "      <td>0,6</td>\n",
       "      <td>5,7</td>\n",
       "      <td>5,1</td>\n",
       "    </tr>\n",
       "    <tr>\n",
       "      <th>4</th>\n",
       "      <td>Brasil</td>\n",
       "      <td>Geo-helmintos e teniases</td>\n",
       "      <td>3,2</td>\n",
       "      <td>3,2</td>\n",
       "      <td>2,3</td>\n",
       "      <td>1,8</td>\n",
       "      <td>1,9</td>\n",
       "      <td>1,3</td>\n",
       "      <td>1,1</td>\n",
       "      <td>0,9</td>\n",
       "      <td>0,9</td>\n",
       "      <td>0,6</td>\n",
       "      <td>0,8</td>\n",
       "      <td>0,7</td>\n",
       "      <td>0,7</td>\n",
       "      <td>0,6</td>\n",
       "      <td>0,6</td>\n",
       "      <td>0,6</td>\n",
       "      <td>0,5</td>\n",
       "      <td>0,5</td>\n",
       "    </tr>\n",
       "  </tbody>\n",
       "</table>\n",
       "</div>"
      ],
      "text/plain": [
       "   Brasil                                       OPCAO   1993   1994   1995  \\\n",
       "0  Brasil                    De transmissao feco-oral  681,1  672,4  488,5   \n",
       "1  Brasil                Tansmitidas por inseto vetor   36,4   38,4   30,4   \n",
       "2  Brasil  Transmitidas atraves do contato com a agua    3,7    3,9    3,9   \n",
       "3  Brasil                  Relacionadas com a higiene    8,4    7,6    6,3   \n",
       "4  Brasil                    Geo-helmintos e teniases    3,2    3,2    2,3   \n",
       "\n",
       "   1996   1997   1998   1999   2000   2001   2002   2003   2004   2005   2006  \\\n",
       "0   423  390,6  325,7  327,4  303,5  315,8  325,9  325,3  290,6  297,2  302,2   \n",
       "1  21,6   15,8   17,9   19,3   22,3   25,6   41,3   40,5   21,8     28   25,8   \n",
       "2   3,3    2,9    2,6    2,5    2,9    2,9    2,4    2,3    2,1    2,2    1,9   \n",
       "3   5,8    6,7    0,7    0,6    0,6    0,7    0,9    0,8    0,8    0,7    0,6   \n",
       "4   1,8    1,9    1,3    1,1    0,9    0,9    0,6    0,8    0,7    0,7    0,6   \n",
       "\n",
       "   2007   2008   2009   2010  \n",
       "0   249  260,2  247,9  264,3  \n",
       "1  35,1   46,1   33,7     54  \n",
       "2     2    1,3    1,5    1,5  \n",
       "3   0,6    0,6    5,7    5,1  \n",
       "4   0,6    0,6    0,5    0,5  "
      ]
     },
     "execution_count": 23,
     "metadata": {},
     "output_type": "execute_result"
    }
   ],
   "source": [
    "notas.head()"
   ]
  },
  {
   "cell_type": "code",
   "execution_count": null,
   "metadata": {
    "collapsed": true
   },
   "outputs": [],
   "source": []
  },
  {
   "cell_type": "code",
   "execution_count": null,
   "metadata": {
    "collapsed": false
   },
   "outputs": [],
   "source": []
  },
  {
   "cell_type": "code",
   "execution_count": 59,
   "metadata": {
    "collapsed": false
   },
   "outputs": [],
   "source": [
    "tabela = notas.loc[:, [\"OPCAO\", \"1993\",\"1994\",\"1995\",\"1996\",\n",
    "                       \"1997\",\"1998\",\"1999\",\"2000\",\"2001\",\n",
    "                       \"2002\",\"2003\",\"2004\",\"2005\",\"2006\",\n",
    "                       \"2007\",\"2008\",\"2009\",\"2010\"]]\n",
    "#tabela"
   ]
  },
  {
   "cell_type": "code",
   "execution_count": 66,
   "metadata": {
    "collapsed": false
   },
   "outputs": [
    {
     "data": {
      "text/html": [
       "<div>\n",
       "<table border=\"1\" class=\"dataframe\">\n",
       "  <thead>\n",
       "    <tr style=\"text-align: right;\">\n",
       "      <th></th>\n",
       "      <th>Opções</th>\n",
       "      <th>Anos</th>\n",
       "    </tr>\n",
       "  </thead>\n",
       "  <tbody>\n",
       "    <tr>\n",
       "      <th>0</th>\n",
       "      <td>De transmissao feco-oral</td>\n",
       "      <td>264,3</td>\n",
       "    </tr>\n",
       "    <tr>\n",
       "      <th>1</th>\n",
       "      <td>Tansmitidas por inseto vetor</td>\n",
       "      <td>54</td>\n",
       "    </tr>\n",
       "    <tr>\n",
       "      <th>2</th>\n",
       "      <td>Transmitidas atraves do contato com a agua</td>\n",
       "      <td>1,5</td>\n",
       "    </tr>\n",
       "    <tr>\n",
       "      <th>3</th>\n",
       "      <td>Relacionadas com a higiene</td>\n",
       "      <td>5,1</td>\n",
       "    </tr>\n",
       "    <tr>\n",
       "      <th>4</th>\n",
       "      <td>Geo-helmintos e teniases</td>\n",
       "      <td>0,5</td>\n",
       "    </tr>\n",
       "  </tbody>\n",
       "</table>\n",
       "</div>"
      ],
      "text/plain": [
       "                                       Opções   Anos\n",
       "0                    De transmissao feco-oral  264,3\n",
       "1                Tansmitidas por inseto vetor     54\n",
       "2  Transmitidas atraves do contato com a agua    1,5\n",
       "3                  Relacionadas com a higiene    5,1\n",
       "4                    Geo-helmintos e teniases    0,5"
      ]
     },
     "execution_count": 66,
     "metadata": {},
     "output_type": "execute_result"
    }
   ],
   "source": [
    "escolhas = pd.DataFrame()\n",
    "\n",
    "escolhas[\"Opções\"] = tabela[\"OPCAO\"]\n",
    "escolhas[\"Anos\"] = tabela[\"1993\"]\n",
    "escolhas[\"Anos\"] = tabela[\"1994\"]\n",
    "escolhas[\"Anos\"] = tabela[\"1995\"]\n",
    "escolhas[\"Anos\"] = tabela[\"1996\"]\n",
    "escolhas[\"Anos\"] = tabela[\"1997\"]\n",
    "escolhas[\"Anos\"] = tabela[\"1998\"]\n",
    "escolhas[\"Anos\"] = tabela[\"1999\"]\n",
    "escolhas[\"Anos\"] = tabela[\"2000\"]\n",
    "escolhas[\"Anos\"] = tabela[\"2001\"]\n",
    "escolhas[\"Anos\"] = tabela[\"2002\"]\n",
    "escolhas[\"Anos\"] = tabela[\"2003\"]\n",
    "escolhas[\"Anos\"] = tabela[\"2004\"]\n",
    "escolhas[\"Anos\"] = tabela[\"2005\"]\n",
    "escolhas[\"Anos\"] = tabela[\"2006\"]\n",
    "escolhas[\"Anos\"] = tabela[\"2007\"]\n",
    "escolhas[\"Anos\"] = tabela[\"2008\"]\n",
    "escolhas[\"Anos\"] = tabela[\"2009\"]\n",
    "escolhas[\"Anos\"] = tabela[\"2010\"]\n",
    "\n",
    "escolhas"
   ]
  },
  {
   "cell_type": "code",
   "execution_count": 41,
   "metadata": {
    "collapsed": false
   },
   "outputs": [
    {
     "data": {
      "image/png": "[encoded data removed]",
      "text/plain": [
       "<matplotlib.figure.Figure at 0x25cd6d09710>"
      ]
     },
     "metadata": {},
     "output_type": "display_data"
    }
   ],
   "source": [
    "faixa =  np.arange(0,18,1)\n",
    "tey = notas[\"OPCAO\"]\n",
    "\n",
    "\n",
    "plt.hist(tey, bins=faixa, normed=True)\n",
    "plt.title(\"Histograma de Doenças\")\n",
    "plt.ylabel(\"Frequência relativa\")\n",
    "plt.show()"
   ]
  },
  {
   "cell_type": "markdown",
   "metadata": {
    "collapsed": true
   },
   "source": [
    "___\n",
    "### Itens 4 a 6 - Resolução:"
   ]
  },
  {
   "cell_type": "code",
   "execution_count": null,
   "metadata": {
    "collapsed": true
   },
   "outputs": [],
   "source": []
  },
  {
   "cell_type": "code",
   "execution_count": null,
   "metadata": {
    "collapsed": true
   },
   "outputs": [],
   "source": []
  },
  {
   "cell_type": "markdown",
   "metadata": {
    "collapsed": true
   },
   "source": [
    "___\n",
    "### Itens 7 a 9 - Resolução:"
   ]
  },
  {
   "cell_type": "code",
   "execution_count": null,
   "metadata": {
    "collapsed": true
   },
   "outputs": [],
   "source": []
  },
  {
   "cell_type": "code",
   "execution_count": null,
   "metadata": {
    "collapsed": true
   },
   "outputs": [],
   "source": []
  },
  {
   "cell_type": "markdown",
   "metadata": {},
   "source": [
    "___\n",
    "### Itens 10 e 11 - Resolução:"
   ]
  },
  {
   "cell_type": "code",
   "execution_count": null,
   "metadata": {
    "collapsed": true
   },
   "outputs": [],
   "source": []
  },
  {
   "cell_type": "code",
   "execution_count": null,
   "metadata": {
    "collapsed": true
   },
   "outputs": [],
   "source": []
  }
 ],
 "metadata": {
  "anaconda-cloud": {},
  "kernelspec": {
   "display_name": "Python 3",
   "language": "python",
   "name": "python3"
  },
  "language_info": {
   "codemirror_mode": {
    "name": "ipython",
    "version": 3
   },
   "file_extension": ".py",
   "mimetype": "text/x-python",
   "name": "python",
   "nbconvert_exporter": "python",
   "pygments_lexer": "ipython3",
   "version": "3.5.2"
  }
 },
 "nbformat": 4,
 "nbformat_minor": 0
}
