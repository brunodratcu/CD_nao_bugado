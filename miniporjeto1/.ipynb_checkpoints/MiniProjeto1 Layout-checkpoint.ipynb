{
 "cells": [
  {
   "cell_type": "markdown",
   "metadata": {},
   "source": [
    "___\n",
    "# MINIPROJETO 1"
   ]
  },
  {
   "cell_type": "markdown",
   "metadata": {},
   "source": [
    "## <font color='red'>Bruno Dratcu</font>\n",
    "___"
   ]
  },
  {
   "cell_type": "markdown",
   "metadata": {},
   "source": [
    "## <font color='blue'>VARIÁVEL QUANTITATIVA ESCOLHIDA: Temperatura diaria (em ºC)</font>"
   ]
  },
  {
   "cell_type": "markdown",
   "metadata": {},
   "source": [
    "___\n",
    "### Itens 1 a 3 - Resolução:"
   ]
  },
  {
   "cell_type": "code",
   "execution_count": 1,
   "metadata": {
    "collapsed": false
   },
   "outputs": [
    {
     "name": "stdout",
     "output_type": "stream",
     "text": [
      "Esperamos trabalhar no diretório\n",
      "C:\\Users\\Bruno Dratcu\\Desktop\\2o Semestre\\Ciencia dos Dados\\CD_nao_bugado\\miniporjeto1\n"
     ]
    }
   ],
   "source": [
    "%matplotlib inline\n",
    "import pandas as pd\n",
    "import matplotlib.pyplot as plt\n",
    "import numpy as np\n",
    "import os\n",
    "from scipy import stats\n",
    "from scipy.stats import norm, weibull_max\n",
    "\n",
    "print('Esperamos trabalhar no diretório')\n",
    "print(os.getcwd())"
   ]
  },
  {
   "cell_type": "code",
   "execution_count": 14,
   "metadata": {
    "collapsed": false
   },
   "outputs": [
    {
     "data": {
      "text/html": [
       "<div>\n",
       "<table border=\"1\" class=\"dataframe\">\n",
       "  <thead>\n",
       "    <tr style=\"text-align: right;\">\n",
       "      <th></th>\n",
       "      <th>Location</th>\n",
       "      <th>Latitude</th>\n",
       "      <th>Longitude</th>\n",
       "      <th>Date Local</th>\n",
       "      <th>Nitrogen dioxide (ppb)</th>\n",
       "      <th>Ozone (ppb)</th>\n",
       "      <th>Sulfur dioxide (ppb)</th>\n",
       "      <th>Mean Daily Temp (Â¡F)</th>\n",
       "      <th>Mean Daily Temperature (Â¡C)</th>\n",
       "      <th>Preciptation (cm)</th>\n",
       "      <th>Wind Speed (Knots)</th>\n",
       "      <th>Wind Direction (Degrees)</th>\n",
       "      <th>Sea Level Pressure (mb)</th>\n",
       "    </tr>\n",
       "  </thead>\n",
       "  <tbody>\n",
       "    <tr>\n",
       "      <th>0</th>\n",
       "      <td>N. Little Rock, AR</td>\n",
       "      <td>34.756189</td>\n",
       "      <td>-92.281296</td>\n",
       "      <td>1/1/15</td>\n",
       "      <td>11.55</td>\n",
       "      <td>NaN</td>\n",
       "      <td>1.16</td>\n",
       "      <td>37.0</td>\n",
       "      <td>2.8</td>\n",
       "      <td>0.063</td>\n",
       "      <td>1.7</td>\n",
       "      <td>129</td>\n",
       "      <td>30.3</td>\n",
       "    </tr>\n",
       "    <tr>\n",
       "      <th>1</th>\n",
       "      <td>N. Little Rock, AR</td>\n",
       "      <td>34.756189</td>\n",
       "      <td>-92.281296</td>\n",
       "      <td>1/2/15</td>\n",
       "      <td>13.91</td>\n",
       "      <td>NaN</td>\n",
       "      <td>0.72</td>\n",
       "      <td>40.3</td>\n",
       "      <td>4.6</td>\n",
       "      <td>0.217</td>\n",
       "      <td>5.2</td>\n",
       "      <td>50</td>\n",
       "      <td>30.0</td>\n",
       "    </tr>\n",
       "    <tr>\n",
       "      <th>2</th>\n",
       "      <td>N. Little Rock, AR</td>\n",
       "      <td>34.756189</td>\n",
       "      <td>-92.281296</td>\n",
       "      <td>1/3/15</td>\n",
       "      <td>7.95</td>\n",
       "      <td>NaN</td>\n",
       "      <td>0.65</td>\n",
       "      <td>48.1</td>\n",
       "      <td>8.9</td>\n",
       "      <td>0.548</td>\n",
       "      <td>7.0</td>\n",
       "      <td>236</td>\n",
       "      <td>29.8</td>\n",
       "    </tr>\n",
       "    <tr>\n",
       "      <th>3</th>\n",
       "      <td>N. Little Rock, AR</td>\n",
       "      <td>34.756189</td>\n",
       "      <td>-92.281296</td>\n",
       "      <td>1/4/15</td>\n",
       "      <td>4.11</td>\n",
       "      <td>NaN</td>\n",
       "      <td>0.61</td>\n",
       "      <td>37.1</td>\n",
       "      <td>2.8</td>\n",
       "      <td>0.000</td>\n",
       "      <td>9.6</td>\n",
       "      <td>289</td>\n",
       "      <td>30.1</td>\n",
       "    </tr>\n",
       "    <tr>\n",
       "      <th>4</th>\n",
       "      <td>N. Little Rock, AR</td>\n",
       "      <td>34.756189</td>\n",
       "      <td>-92.281296</td>\n",
       "      <td>1/5/15</td>\n",
       "      <td>8.13</td>\n",
       "      <td>1.97</td>\n",
       "      <td>0.93</td>\n",
       "      <td>29.7</td>\n",
       "      <td>-1.3</td>\n",
       "      <td>0.000</td>\n",
       "      <td>5.2</td>\n",
       "      <td>71</td>\n",
       "      <td>30.4</td>\n",
       "    </tr>\n",
       "  </tbody>\n",
       "</table>\n",
       "</div>"
      ],
      "text/plain": [
       "             Location   Latitude  Longitude Date Local  \\\n",
       "0  N. Little Rock, AR  34.756189 -92.281296     1/1/15   \n",
       "1  N. Little Rock, AR  34.756189 -92.281296     1/2/15   \n",
       "2  N. Little Rock, AR  34.756189 -92.281296     1/3/15   \n",
       "3  N. Little Rock, AR  34.756189 -92.281296     1/4/15   \n",
       "4  N. Little Rock, AR  34.756189 -92.281296     1/5/15   \n",
       "\n",
       "   Nitrogen dioxide (ppb)  Ozone (ppb)  Sulfur dioxide (ppb)  \\\n",
       "0                   11.55          NaN                  1.16   \n",
       "1                   13.91          NaN                  0.72   \n",
       "2                    7.95          NaN                  0.65   \n",
       "3                    4.11          NaN                  0.61   \n",
       "4                    8.13         1.97                  0.93   \n",
       "\n",
       "   Mean Daily Temp (Â¡F)  Mean Daily Temperature (Â¡C)  Preciptation (cm)  \\\n",
       "0                   37.0                           2.8              0.063   \n",
       "1                   40.3                           4.6              0.217   \n",
       "2                   48.1                           8.9              0.548   \n",
       "3                   37.1                           2.8              0.000   \n",
       "4                   29.7                          -1.3              0.000   \n",
       "\n",
       "   Wind Speed (Knots)  Wind Direction (Degrees)  Sea Level Pressure (mb)  \n",
       "0                 1.7                       129                     30.3  \n",
       "1                 5.2                        50                     30.0  \n",
       "2                 7.0                       236                     29.8  \n",
       "3                 9.6                       289                     30.1  \n",
       "4                 5.2                        71                     30.4  "
      ]
     },
     "execution_count": 14,
     "metadata": {},
     "output_type": "execute_result"
    }
   ],
   "source": [
    "notas = pd.read_csv(\"air_quality.csv\", encoding=\"windows-1252\", sep=\",\")\n",
    "notas.head()"
   ]
  },
  {
   "cell_type": "code",
   "execution_count": 15,
   "metadata": {
    "collapsed": false
   },
   "outputs": [],
   "source": [
    "#notas.describe()"
   ]
  },
  {
   "cell_type": "code",
   "execution_count": 5,
   "metadata": {
    "collapsed": false
   },
   "outputs": [],
   "source": [
    "tabela = notas.loc[:, [\"Location\", \"Mean Daily Temperature (Â¡C)\", \n",
    "                       \"Nitrogen dioxide (ppb)\", \"Ozone (ppb)\", \n",
    "                       \"Sulfur dioxide (ppb)\", \"Wind Speed (Knots)\", \n",
    "                       \"Sea Level Pressure (mb)\", \"Wind Direction (Degrees)\"]]\n",
    "#tabela"
   ]
  },
  {
   "cell_type": "code",
   "execution_count": 6,
   "metadata": {
    "collapsed": false
   },
   "outputs": [],
   "source": [
    "escolhas = pd.DataFrame()\n",
    "\n",
    "escolhas[\"Local\"] = tabela[\"Location\"]\n",
    "escolhas[\"Media diaria de Temperatura (ºC)\"] = tabela[\"Mean Daily Temperature (Â¡C)\"]\n",
    "escolhas[\"Velocidade do vento (em nós)\"] = tabela[\"Wind Speed (Knots)\"]\n",
    "escolhas[\"Pressão do nivel do mar (milibar)\"] = tabela[\"Sea Level Pressure (mb)\"]\n",
    "escolhas[\"Direção do vento\"] = tabela[\"Wind Direction (Degrees)\"]\n",
    "\n",
    "escolhas[\"Dioxido de Nitrogenio (ppb)\"] = tabela[\"Nitrogen dioxide (ppb)\"]\n",
    "escolhas[\"Ozonio (ppb)\"] = tabela[\"Ozone (ppb)\"]\n",
    "escolhas[\"Dioxido de Sulfato\"] = tabela[\"Sulfur dioxide (ppb)\"]\n",
    "\n",
    "#escolhas"
   ]
  },
  {
   "cell_type": "code",
   "execution_count": 7,
   "metadata": {
    "collapsed": false
   },
   "outputs": [],
   "source": [
    "Houston = escolhas[(escolhas.Local==\"Houston, TX\")]\n",
    "Miami = escolhas[(escolhas.Local==\"Miami, FL\")]\n",
    "LA = escolhas[(escolhas.Local==\"Los Angeles, CA\")]\n",
    "LRock = escolhas[(escolhas.Local==\"N. Little Rock, AR\")]\n",
    "\n",
    "direcao = Miami[\"Direção do vento\"]\n",
    "velo = Miami[\"Velocidade do vento (em nós)\"]\n",
    "temp = Miami[\"Media diaria de Temperatura (ºC)\"]\n",
    "NO2 = Miami[\"Dioxido de Nitrogenio (ppb)\"]\n",
    "ozonio = Miami[\"Ozonio (ppb)\"]\n",
    "SO2 = Miami[\"Dioxido de Sulfato\"]"
   ]
  },
  {
   "cell_type": "markdown",
   "metadata": {
    "collapsed": true
   },
   "source": [
    "Minhas distribuições teoricas para modelar minha variavel quantitica são: Weibull & Normal."
   ]
  },
  {
   "cell_type": "code",
   "execution_count": 33,
   "metadata": {
    "collapsed": false
   },
   "outputs": [
    {
     "data": {
      "text/plain": [
       "count    273.000000\n",
       "mean     149.043956\n",
       "std       81.910853\n",
       "min        2.000000\n",
       "25%       97.000000\n",
       "50%      120.000000\n",
       "75%      194.000000\n",
       "max      360.000000\n",
       "Name: Direção do vento, dtype: float64"
      ]
     },
     "execution_count": 33,
     "metadata": {},
     "output_type": "execute_result"
    },
    {
     "data": {
      "image/png": "[encoded data removed]",
      "text/plain": [
       "<matplotlib.figure.Figure at 0x1617da7d2e8>"
      ]
     },
     "metadata": {},
     "output_type": "display_data"
    }
   ],
   "source": [
    "#Histograma da direção dos ventos em Miami\n",
    "\n",
    "hist = plt.hist(direcao, normed=True, bins=100, color=\"orange\")\n",
    "plt.title(\"Histograma da direção dos ventos de Miami\")\n",
    "plt.ylabel(\"Frequência relativa\")\n",
    "hist\n",
    "direcao.describe()"
   ]
  },
  {
   "cell_type": "code",
   "execution_count": 18,
   "metadata": {
    "collapsed": false
   },
   "outputs": [
    {
     "data": {
      "image/png": "[encoded data removed]",
      "text/plain": [
       "<matplotlib.figure.Figure at 0x1617dc060b8>"
      ]
     },
     "metadata": {},
     "output_type": "display_data"
    }
   ],
   "source": [
    "#Histograma com a distribuição teorica (normal) e parametros estimados\n",
    "\n",
    "x = np.linspace(-50, 400, 100)\n",
    "y = norm.pdf(x, loc=100, scale=67)\n",
    "hist = plt.hist(direcao, normed=True, bins=20, color=\"orange\")\n",
    "\n",
    "\n",
    "plt.plot(x,y, color=\"r\")\n",
    "plt.show()"
   ]
  },
  {
   "cell_type": "code",
   "execution_count": 48,
   "metadata": {
    "collapsed": false
   },
   "outputs": [],
   "source": [
    "#TENTATIVA DE FAZER WEIBULL\n",
    "\n",
    "c = 1.75\n",
    "mean, var, skew, kurt = weibull_max.stats(c, moments=\"mvks\")\n",
    "x = np.linspace(weibull_max.ppf(0.167, c), weibull_max.ppf(0.167, c), 360)\n",
    "r = weibull_max.rvs(c, size=1000)\n",
    "#ax.hist(hist, normed=True)\n",
    "plt.show()"
   ]
  },
  {
   "cell_type": "code",
   "execution_count": 10,
   "metadata": {
    "collapsed": false
   },
   "outputs": [
    {
     "data": {
      "text/plain": [
       "149.04395604395606"
      ]
     },
     "execution_count": 10,
     "metadata": {},
     "output_type": "execute_result"
    }
   ],
   "source": [
    "#Media da direção dos ventos em Miami\n",
    "direcao.mean()"
   ]
  },
  {
   "cell_type": "code",
   "execution_count": 11,
   "metadata": {
    "collapsed": false
   },
   "outputs": [
    {
     "data": {
      "text/plain": [
       "81.91085255718636"
      ]
     },
     "execution_count": 11,
     "metadata": {},
     "output_type": "execute_result"
    }
   ],
   "source": [
    "#Variancia da direção dos ventos em Miami\n",
    "direcao.std()"
   ]
  },
  {
   "cell_type": "code",
   "execution_count": 20,
   "metadata": {
    "collapsed": false
   },
   "outputs": [
    {
     "data": {
      "text/plain": [
       "(149.04395604395606, 81.760695047677942)"
      ]
     },
     "execution_count": 20,
     "metadata": {},
     "output_type": "execute_result"
    }
   ],
   "source": [
    "#Fit com normal\n",
    "\n",
    "direc_fit = stats.norm.fit(direcao)\n",
    "direc_fit"
   ]
  },
  {
   "cell_type": "code",
   "execution_count": 19,
   "metadata": {
    "collapsed": false
   },
   "outputs": [
    {
     "data": {
      "text/plain": [
       "(0.16797055875545414, 360.00000000000006, 1.7564760500380969)"
      ]
     },
     "execution_count": 19,
     "metadata": {},
     "output_type": "execute_result"
    }
   ],
   "source": [
    "#Fit com Weibull\n",
    "\n",
    "direct_weibull = stats.weibull_max.fit(direcao)\n",
    "direct_weibull"
   ]
  },
  {
   "cell_type": "code",
   "execution_count": null,
   "metadata": {
    "collapsed": true
   },
   "outputs": [],
   "source": []
  },
  {
   "cell_type": "code",
   "execution_count": 50,
   "metadata": {
    "collapsed": false
   },
   "outputs": [
    {
     "data": {
      "text/plain": [
       "count    273.000000\n",
       "mean      24.465934\n",
       "std        3.737623\n",
       "min       10.700000\n",
       "25%       22.900000\n",
       "50%       25.600000\n",
       "75%       27.300000\n",
       "max       29.200000\n",
       "Name: Media diaria de Temperatura (ºC), dtype: float64"
      ]
     },
     "execution_count": 50,
     "metadata": {},
     "output_type": "execute_result"
    },
    {
     "data": {
      "image/png": "[encoded data removed]",
      "text/plain": [
       "<matplotlib.figure.Figure at 0x1617fc99898>"
      ]
     },
     "metadata": {},
     "output_type": "display_data"
    }
   ],
   "source": [
    "#Histograma da temperetura\n",
    "\n",
    "hist = plt.hist(temp, normed=True, bins=100, color=\"r\")\n",
    "plt.title(\"Histograma da temperatura de Miami\")\n",
    "plt.ylabel(\"Frequência relativa\")\n",
    "hist\n",
    "temp.describe()"
   ]
  },
  {
   "cell_type": "code",
   "execution_count": 47,
   "metadata": {
    "collapsed": false
   },
   "outputs": [
    {
     "data": {
      "image/png": "[encoded data removed]",
      "text/plain": [
       "<matplotlib.figure.Figure at 0x1617eaa6588>"
      ]
     },
     "metadata": {},
     "output_type": "display_data"
    }
   ],
   "source": [
    "#TENTATIVA DE FAZER A NORMAL NO HISTOGRAMA DE TEMPERATURA\n",
    "\n",
    "x = np.linspace(10, 30, 100)\n",
    "y = norm.pdf(x, loc=25, scale=3)\n",
    "hist = plt.hist(temp, normed=True, bins=100, color=\"red\")\n",
    "\n",
    "\n",
    "plt.plot(x,y, color=\"green\")\n",
    "wplt.show()"
   ]
  },
  {
   "cell_type": "code",
   "execution_count": 42,
   "metadata": {
    "collapsed": false
   },
   "outputs": [
    {
     "data": {
      "text/plain": [
       "(24.465934065934064, 3.730771550491006)"
      ]
     },
     "execution_count": 42,
     "metadata": {},
     "output_type": "execute_result"
    }
   ],
   "source": [
    "#fit de temperatura \n",
    "\n",
    "direc_fit = stats.norm.fit(temp)\n",
    "direc_fit"
   ]
  },
  {
   "cell_type": "markdown",
   "metadata": {
    "collapsed": true
   },
   "source": [
    "___\n",
    "### Itens 3 a 6 - Resolução:"
   ]
  },
  {
   "cell_type": "markdown",
   "metadata": {
    "collapsed": true
   },
   "source": [
    "___\n",
    "### Itens 7 a 9 - Resolução:"
   ]
  },
  {
   "cell_type": "code",
   "execution_count": null,
   "metadata": {
    "collapsed": true
   },
   "outputs": [],
   "source": []
  },
  {
   "cell_type": "code",
   "execution_count": null,
   "metadata": {
    "collapsed": true
   },
   "outputs": [],
   "source": []
  },
  {
   "cell_type": "markdown",
   "metadata": {},
   "source": [
    "___\n",
    "### Itens 10 e 11 - Resolução:"
   ]
  },
  {
   "cell_type": "code",
   "execution_count": null,
   "metadata": {
    "collapsed": true
   },
   "outputs": [],
   "source": []
  },
  {
   "cell_type": "code",
   "execution_count": null,
   "metadata": {
    "collapsed": true
   },
   "outputs": [],
   "source": []
  }
 ],
 "metadata": {
  "anaconda-cloud": {},
  "kernelspec": {
   "display_name": "Python 3",
   "language": "python",
   "name": "python3"
  },
  "language_info": {
   "codemirror_mode": {
    "name": "ipython",
    "version": 3
   },
   "file_extension": ".py",
   "mimetype": "text/x-python",
   "name": "python",
   "nbconvert_exporter": "python",
   "pygments_lexer": "ipython3",
   "version": "3.5.2"
  }
 },
 "nbformat": 4,
 "nbformat_minor": 0
}
