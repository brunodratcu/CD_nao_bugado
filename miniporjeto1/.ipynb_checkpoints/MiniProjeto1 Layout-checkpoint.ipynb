{
 "cells": [
  {
   "cell_type": "markdown",
   "metadata": {},
   "source": [
    "___\n",
    "# MINIPROJETO 1"
   ]
  },
  {
   "cell_type": "markdown",
   "metadata": {},
   "source": [
    "## <font color='red'>Bruno Dratcu</font>\n",
    "___"
   ]
  },
  {
   "cell_type": "markdown",
   "metadata": {},
   "source": [
    "## <font color='blue'>NOME DA VARIÁVEL QUANTITATIVA ESCOLHIDA</font>"
   ]
  },
  {
   "cell_type": "markdown",
   "metadata": {},
   "source": [
    "___\n",
    "### Itens 1 a 3 - Resolução:"
   ]
  },
  {
   "cell_type": "code",
   "execution_count": 3,
   "metadata": {
    "collapsed": false
   },
   "outputs": [
    {
     "name": "stdout",
     "output_type": "stream",
     "text": [
      "Esperamos trabalhar no diretório\n",
      "C:\\Users\\Bruno Dratcu\\Desktop\\2o Semestre\\Ciencia dos Dados\\CD_nao_bugado\\miniporjeto1\n"
     ]
    }
   ],
   "source": [
    "%matplotlib inline\n",
    "import pandas as pd\n",
    "import matplotlib.pyplot as plt\n",
    "import numpy as np\n",
    "import os\n",
    "from scipy import stats\n",
    "\n",
    "print('Esperamos trabalhar no diretório')\n",
    "print(os.getcwd())"
   ]
  },
  {
   "cell_type": "code",
   "execution_count": 4,
   "metadata": {
    "collapsed": false
   },
   "outputs": [],
   "source": [
    "notas = pd.read_csv(\"air_quality.csv\", encoding=\"windows-1252\", sep=\",\")"
   ]
  },
  {
   "cell_type": "code",
   "execution_count": 13,
   "metadata": {
    "collapsed": false
   },
   "outputs": [
    {
     "data": {
      "text/html": [
       "<div>\n",
       "<table border=\"1\" class=\"dataframe\">\n",
       "  <thead>\n",
       "    <tr style=\"text-align: right;\">\n",
       "      <th></th>\n",
       "      <th>Location</th>\n",
       "      <th>Latitude</th>\n",
       "      <th>Longitude</th>\n",
       "      <th>Date Local</th>\n",
       "      <th>Nitrogen dioxide (ppb)</th>\n",
       "      <th>Ozone (ppb)</th>\n",
       "      <th>Sulfur dioxide (ppb)</th>\n",
       "      <th>Mean Daily Temp (Â¡F)</th>\n",
       "      <th>Mean Daily Temperature (Â¡C)</th>\n",
       "      <th>Preciptation (cm)</th>\n",
       "      <th>Wind Speed (Knots)</th>\n",
       "      <th>Wind Direction (Degrees)</th>\n",
       "      <th>Sea Level Pressure (mb)</th>\n",
       "    </tr>\n",
       "  </thead>\n",
       "  <tbody>\n",
       "    <tr>\n",
       "      <th>0</th>\n",
       "      <td>N. Little Rock, AR</td>\n",
       "      <td>34.756189</td>\n",
       "      <td>-92.281296</td>\n",
       "      <td>1/1/15</td>\n",
       "      <td>11.55</td>\n",
       "      <td>NaN</td>\n",
       "      <td>1.16</td>\n",
       "      <td>37.0</td>\n",
       "      <td>2.8</td>\n",
       "      <td>0.063</td>\n",
       "      <td>1.7</td>\n",
       "      <td>129</td>\n",
       "      <td>30.3</td>\n",
       "    </tr>\n",
       "    <tr>\n",
       "      <th>1</th>\n",
       "      <td>N. Little Rock, AR</td>\n",
       "      <td>34.756189</td>\n",
       "      <td>-92.281296</td>\n",
       "      <td>1/2/15</td>\n",
       "      <td>13.91</td>\n",
       "      <td>NaN</td>\n",
       "      <td>0.72</td>\n",
       "      <td>40.3</td>\n",
       "      <td>4.6</td>\n",
       "      <td>0.217</td>\n",
       "      <td>5.2</td>\n",
       "      <td>50</td>\n",
       "      <td>30.0</td>\n",
       "    </tr>\n",
       "    <tr>\n",
       "      <th>2</th>\n",
       "      <td>N. Little Rock, AR</td>\n",
       "      <td>34.756189</td>\n",
       "      <td>-92.281296</td>\n",
       "      <td>1/3/15</td>\n",
       "      <td>7.95</td>\n",
       "      <td>NaN</td>\n",
       "      <td>0.65</td>\n",
       "      <td>48.1</td>\n",
       "      <td>8.9</td>\n",
       "      <td>0.548</td>\n",
       "      <td>7.0</td>\n",
       "      <td>236</td>\n",
       "      <td>29.8</td>\n",
       "    </tr>\n",
       "    <tr>\n",
       "      <th>3</th>\n",
       "      <td>N. Little Rock, AR</td>\n",
       "      <td>34.756189</td>\n",
       "      <td>-92.281296</td>\n",
       "      <td>1/4/15</td>\n",
       "      <td>4.11</td>\n",
       "      <td>NaN</td>\n",
       "      <td>0.61</td>\n",
       "      <td>37.1</td>\n",
       "      <td>2.8</td>\n",
       "      <td>0.000</td>\n",
       "      <td>9.6</td>\n",
       "      <td>289</td>\n",
       "      <td>30.1</td>\n",
       "    </tr>\n",
       "    <tr>\n",
       "      <th>4</th>\n",
       "      <td>N. Little Rock, AR</td>\n",
       "      <td>34.756189</td>\n",
       "      <td>-92.281296</td>\n",
       "      <td>1/5/15</td>\n",
       "      <td>8.13</td>\n",
       "      <td>1.97</td>\n",
       "      <td>0.93</td>\n",
       "      <td>29.7</td>\n",
       "      <td>-1.3</td>\n",
       "      <td>0.000</td>\n",
       "      <td>5.2</td>\n",
       "      <td>71</td>\n",
       "      <td>30.4</td>\n",
       "    </tr>\n",
       "  </tbody>\n",
       "</table>\n",
       "</div>"
      ],
      "text/plain": [
       "             Location   Latitude  Longitude Date Local  \\\n",
       "0  N. Little Rock, AR  34.756189 -92.281296     1/1/15   \n",
       "1  N. Little Rock, AR  34.756189 -92.281296     1/2/15   \n",
       "2  N. Little Rock, AR  34.756189 -92.281296     1/3/15   \n",
       "3  N. Little Rock, AR  34.756189 -92.281296     1/4/15   \n",
       "4  N. Little Rock, AR  34.756189 -92.281296     1/5/15   \n",
       "\n",
       "   Nitrogen dioxide (ppb)  Ozone (ppb)  Sulfur dioxide (ppb)  \\\n",
       "0                   11.55          NaN                  1.16   \n",
       "1                   13.91          NaN                  0.72   \n",
       "2                    7.95          NaN                  0.65   \n",
       "3                    4.11          NaN                  0.61   \n",
       "4                    8.13         1.97                  0.93   \n",
       "\n",
       "   Mean Daily Temp (Â¡F)  Mean Daily Temperature (Â¡C)  Preciptation (cm)  \\\n",
       "0                   37.0                           2.8              0.063   \n",
       "1                   40.3                           4.6              0.217   \n",
       "2                   48.1                           8.9              0.548   \n",
       "3                   37.1                           2.8              0.000   \n",
       "4                   29.7                          -1.3              0.000   \n",
       "\n",
       "   Wind Speed (Knots)  Wind Direction (Degrees)  Sea Level Pressure (mb)  \n",
       "0                 1.7                       129                     30.3  \n",
       "1                 5.2                        50                     30.0  \n",
       "2                 7.0                       236                     29.8  \n",
       "3                 9.6                       289                     30.1  \n",
       "4                 5.2                        71                     30.4  "
      ]
     },
     "execution_count": 13,
     "metadata": {},
     "output_type": "execute_result"
    }
   ],
   "source": [
    "notas.head()"
   ]
  },
  {
   "cell_type": "code",
   "execution_count": 14,
   "metadata": {
    "collapsed": false
   },
   "outputs": [
    {
     "name": "stderr",
     "output_type": "stream",
     "text": [
      "C:\\Users\\Bruno Dratcu\\Anaconda3\\lib\\site-packages\\numpy\\lib\\function_base.py:3403: RuntimeWarning: Invalid value encountered in median\n",
      "  RuntimeWarning)\n"
     ]
    },
    {
     "data": {
      "text/html": [
       "<div>\n",
       "<table border=\"1\" class=\"dataframe\">\n",
       "  <thead>\n",
       "    <tr style=\"text-align: right;\">\n",
       "      <th></th>\n",
       "      <th>Latitude</th>\n",
       "      <th>Longitude</th>\n",
       "      <th>Nitrogen dioxide (ppb)</th>\n",
       "      <th>Ozone (ppb)</th>\n",
       "      <th>Sulfur dioxide (ppb)</th>\n",
       "      <th>Mean Daily Temp (Â¡F)</th>\n",
       "      <th>Mean Daily Temperature (Â¡C)</th>\n",
       "      <th>Preciptation (cm)</th>\n",
       "      <th>Wind Speed (Knots)</th>\n",
       "      <th>Wind Direction (Degrees)</th>\n",
       "      <th>Sea Level Pressure (mb)</th>\n",
       "    </tr>\n",
       "  </thead>\n",
       "  <tbody>\n",
       "    <tr>\n",
       "      <th>count</th>\n",
       "      <td>1000.000000</td>\n",
       "      <td>1000.000000</td>\n",
       "      <td>975.000000</td>\n",
       "      <td>996.000000</td>\n",
       "      <td>981.000000</td>\n",
       "      <td>998.000000</td>\n",
       "      <td>1000.000000</td>\n",
       "      <td>1000.000000</td>\n",
       "      <td>1000.000000</td>\n",
       "      <td>1000.000000</td>\n",
       "      <td>1000.000000</td>\n",
       "    </tr>\n",
       "    <tr>\n",
       "      <th>mean</th>\n",
       "      <td>30.811434</td>\n",
       "      <td>-94.558758</td>\n",
       "      <td>12.077662</td>\n",
       "      <td>2.294357</td>\n",
       "      <td>0.369256</td>\n",
       "      <td>69.913126</td>\n",
       "      <td>20.984200</td>\n",
       "      <td>0.051880</td>\n",
       "      <td>5.041300</td>\n",
       "      <td>163.303000</td>\n",
       "      <td>955.707300</td>\n",
       "    </tr>\n",
       "    <tr>\n",
       "      <th>std</th>\n",
       "      <td>3.655748</td>\n",
       "      <td>12.625808</td>\n",
       "      <td>8.329424</td>\n",
       "      <td>1.049064</td>\n",
       "      <td>0.859037</td>\n",
       "      <td>13.188637</td>\n",
       "      <td>7.521237</td>\n",
       "      <td>0.149587</td>\n",
       "      <td>2.892374</td>\n",
       "      <td>92.048085</td>\n",
       "      <td>238.112425</td>\n",
       "    </tr>\n",
       "    <tr>\n",
       "      <th>min</th>\n",
       "      <td>25.798333</td>\n",
       "      <td>-118.226880</td>\n",
       "      <td>-1.090000</td>\n",
       "      <td>0.000000</td>\n",
       "      <td>-1.000000</td>\n",
       "      <td>23.400000</td>\n",
       "      <td>-17.800000</td>\n",
       "      <td>0.000000</td>\n",
       "      <td>0.000000</td>\n",
       "      <td>-1.000000</td>\n",
       "      <td>29.700000</td>\n",
       "    </tr>\n",
       "    <tr>\n",
       "      <th>25%</th>\n",
       "      <td>25.798333</td>\n",
       "      <td>-95.492650</td>\n",
       "      <td>NaN</td>\n",
       "      <td>NaN</td>\n",
       "      <td>NaN</td>\n",
       "      <td>NaN</td>\n",
       "      <td>17.100000</td>\n",
       "      <td>0.000000</td>\n",
       "      <td>2.600000</td>\n",
       "      <td>95.000000</td>\n",
       "      <td>1013.500000</td>\n",
       "    </tr>\n",
       "    <tr>\n",
       "      <th>50%</th>\n",
       "      <td>29.721600</td>\n",
       "      <td>-92.281296</td>\n",
       "      <td>NaN</td>\n",
       "      <td>NaN</td>\n",
       "      <td>NaN</td>\n",
       "      <td>NaN</td>\n",
       "      <td>23.000000</td>\n",
       "      <td>0.000000</td>\n",
       "      <td>5.200000</td>\n",
       "      <td>156.500000</td>\n",
       "      <td>1016.300000</td>\n",
       "    </tr>\n",
       "    <tr>\n",
       "      <th>75%</th>\n",
       "      <td>34.756189</td>\n",
       "      <td>-80.210278</td>\n",
       "      <td>NaN</td>\n",
       "      <td>NaN</td>\n",
       "      <td>NaN</td>\n",
       "      <td>NaN</td>\n",
       "      <td>26.625000</td>\n",
       "      <td>0.016000</td>\n",
       "      <td>7.000000</td>\n",
       "      <td>228.000000</td>\n",
       "      <td>1019.000000</td>\n",
       "    </tr>\n",
       "    <tr>\n",
       "      <th>max</th>\n",
       "      <td>34.756189</td>\n",
       "      <td>-80.210278</td>\n",
       "      <td>46.560000</td>\n",
       "      <td>5.270000</td>\n",
       "      <td>10.430000</td>\n",
       "      <td>88.600000</td>\n",
       "      <td>31.500000</td>\n",
       "      <td>1.710000</td>\n",
       "      <td>18.200000</td>\n",
       "      <td>360.000000</td>\n",
       "      <td>1035.600000</td>\n",
       "    </tr>\n",
       "  </tbody>\n",
       "</table>\n",
       "</div>"
      ],
      "text/plain": [
       "          Latitude    Longitude  Nitrogen dioxide (ppb)  Ozone (ppb)  \\\n",
       "count  1000.000000  1000.000000              975.000000   996.000000   \n",
       "mean     30.811434   -94.558758               12.077662     2.294357   \n",
       "std       3.655748    12.625808                8.329424     1.049064   \n",
       "min      25.798333  -118.226880               -1.090000     0.000000   \n",
       "25%      25.798333   -95.492650                     NaN          NaN   \n",
       "50%      29.721600   -92.281296                     NaN          NaN   \n",
       "75%      34.756189   -80.210278                     NaN          NaN   \n",
       "max      34.756189   -80.210278               46.560000     5.270000   \n",
       "\n",
       "       Sulfur dioxide (ppb)  Mean Daily Temp (Â¡F)  \\\n",
       "count            981.000000             998.000000   \n",
       "mean               0.369256              69.913126   \n",
       "std                0.859037              13.188637   \n",
       "min               -1.000000              23.400000   \n",
       "25%                     NaN                    NaN   \n",
       "50%                     NaN                    NaN   \n",
       "75%                     NaN                    NaN   \n",
       "max               10.430000              88.600000   \n",
       "\n",
       "       Mean Daily Temperature (Â¡C)  Preciptation (cm)  Wind Speed (Knots)  \\\n",
       "count                   1000.000000        1000.000000         1000.000000   \n",
       "mean                      20.984200           0.051880            5.041300   \n",
       "std                        7.521237           0.149587            2.892374   \n",
       "min                      -17.800000           0.000000            0.000000   \n",
       "25%                       17.100000           0.000000            2.600000   \n",
       "50%                       23.000000           0.000000            5.200000   \n",
       "75%                       26.625000           0.016000            7.000000   \n",
       "max                       31.500000           1.710000           18.200000   \n",
       "\n",
       "       Wind Direction (Degrees)  Sea Level Pressure (mb)  \n",
       "count               1000.000000              1000.000000  \n",
       "mean                 163.303000               955.707300  \n",
       "std                   92.048085               238.112425  \n",
       "min                   -1.000000                29.700000  \n",
       "25%                   95.000000              1013.500000  \n",
       "50%                  156.500000              1016.300000  \n",
       "75%                  228.000000              1019.000000  \n",
       "max                  360.000000              1035.600000  "
      ]
     },
     "execution_count": 14,
     "metadata": {},
     "output_type": "execute_result"
    }
   ],
   "source": [
    "notas.describe()"
   ]
  },
  {
   "cell_type": "code",
   "execution_count": 5,
   "metadata": {
    "collapsed": false
   },
   "outputs": [],
   "source": [
    "tabela = notas.loc[:, [\"Location\", \"Mean Daily Temperature (Â¡C)\", \n",
    "                       \"Nitrogen dioxide (ppb)\", \"Ozone (ppb)\", \n",
    "                       \"Sulfur dioxide (ppb)\", \"Wind Speed (Knots)\", \n",
    "                       \"Sea Level Pressure (mb)\"]]\n",
    "#tabela"
   ]
  },
  {
   "cell_type": "code",
   "execution_count": 16,
   "metadata": {
    "collapsed": false
   },
   "outputs": [],
   "source": [
    "escolhas = pd.DataFrame()\n",
    "\n",
    "escolhas[\"Local\"] = tabela[\"Location\"]\n",
    "escolhas[\"Media diaria de Temperatura (ºC)\"] = tabela[\"Mean Daily Temperature (Â¡C)\"]\n",
    "escolhas[\"Velocidade do vento (em nós)\"] = tabela[\"Wind Speed (Knots)\"]\n",
    "escolhas[\"Pressão do nivel do mar (milibar)\"] = tabela[\"Sea Level Pressure (mb)\"]\n",
    "\n",
    "#escolhas[\"Dioxido de Nitrogenio (ppb)\"] = tabela[\"Nitrogen dioxide (ppb)\"]\n",
    "#escolhas[\"Ozonio (ppb)\"] = tabela[\"Ozone (ppb)\"]\n",
    "#escolhas[\"Dioxido de Sulfato\"] = tabela[\"Sulfur dioxide (ppb)\"]\n",
    "\n",
    "#escolhas"
   ]
  },
  {
   "cell_type": "code",
   "execution_count": 7,
   "metadata": {
    "collapsed": false
   },
   "outputs": [],
   "source": [
    "escolhas.Local = tabela.Location.astype('category')\n",
    "escolhas[\"Media diaria de Temperatura (ºC)\"] = tabela[\"Mean Daily Temperature (Â¡C)\"].astype('category')\n",
    "escolhas[\"Velocidade do vento (em nós)\"] = tabela[\"Wind Speed (Knots)\"].astype('category')\n",
    "escolhas[\"Pressão do nivel do mar (milibar)\"] = tabela[\"Sea Level Pressure (mb)\"].astype('category')"
   ]
  },
  {
   "cell_type": "code",
   "execution_count": 8,
   "metadata": {
    "collapsed": false
   },
   "outputs": [],
   "source": [
    "Houston = escolhas[(escolhas.Local==\"Houston, TX\")]\n",
    "Miami = escolhas[(escolhas.Local==\"Miami, FL\")]\n",
    "LA = escolhas[(escolhas.Local==\"Los Angeles, CA\")]\n",
    "LRock = escolhas[(escolhas.Local==\"N. Little Rock, AR\")]"
   ]
  },
  {
   "cell_type": "code",
   "execution_count": 11,
   "metadata": {
    "collapsed": false
   },
   "outputs": [
    {
     "data": {
      "image/png": "[encoded data removed]",
      "text/plain": [
       "<matplotlib.figure.Figure at 0x1b0a30ee240>"
      ]
     },
     "metadata": {},
     "output_type": "display_data"
    }
   ],
   "source": [
    "#faixa =  escolhas[\"Pressão do nivel do mar (milibar)\"]\n",
    "tey = Miami[\"Velocidade do vento (em nós)\"]\n",
    "\n",
    "\n",
    "plt.hist(tey, normed=True)\n",
    "plt.title(\"Histograma de Doenças\")\n",
    "plt.ylabel(\"Frequência relativa\")\n",
    "plt.show()"
   ]
  },
  {
   "cell_type": "markdown",
   "metadata": {
    "collapsed": true
   },
   "source": [
    "minhas distribuições teoricas para modelar minha variavel quantitica são: weibull & normal distribution"
   ]
  },
  {
   "cell_type": "markdown",
   "metadata": {
    "collapsed": true
   },
   "source": [
    "___\n",
    "### Itens 3 a 6 - Resolução:"
   ]
  },
  {
   "cell_type": "markdown",
   "metadata": {
    "collapsed": true
   },
   "source": [
    "___\n",
    "### Itens 7 a 9 - Resolução:"
   ]
  },
  {
   "cell_type": "code",
   "execution_count": null,
   "metadata": {
    "collapsed": true
   },
   "outputs": [],
   "source": []
  },
  {
   "cell_type": "code",
   "execution_count": null,
   "metadata": {
    "collapsed": true
   },
   "outputs": [],
   "source": []
  },
  {
   "cell_type": "markdown",
   "metadata": {},
   "source": [
    "___\n",
    "### Itens 10 e 11 - Resolução:"
   ]
  },
  {
   "cell_type": "code",
   "execution_count": null,
   "metadata": {
    "collapsed": true
   },
   "outputs": [],
   "source": []
  },
  {
   "cell_type": "code",
   "execution_count": null,
   "metadata": {
    "collapsed": true
   },
   "outputs": [],
   "source": []
  }
 ],
 "metadata": {
  "anaconda-cloud": {},
  "kernelspec": {
   "display_name": "Python 3",
   "language": "python",
   "name": "python3"
  },
  "language_info": {
   "codemirror_mode": {
    "name": "ipython",
    "version": 3
   },
   "file_extension": ".py",
   "mimetype": "text/x-python",
   "name": "python",
   "nbconvert_exporter": "python",
   "pygments_lexer": "ipython3",
   "version": "3.5.2"
  }
 },
 "nbformat": 4,
 "nbformat_minor": 0
}
